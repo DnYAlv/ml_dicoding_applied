{
  "nbformat": 4,
  "nbformat_minor": 0,
  "metadata": {
    "colab": {
      "provenance": []
    },
    "kernelspec": {
      "name": "python3",
      "display_name": "Python 3"
    },
    "language_info": {
      "name": "python"
    }
  },
  "cells": [
    {
      "cell_type": "markdown",
      "source": [
        "# SPKU Pencemaran Udara di DKI Jakarta tahun 2021"
      ],
      "metadata": {
        "id": "hxUBz8xSP1hM"
      }
    },
    {
      "cell_type": "markdown",
      "source": [
        "## Problem Statement\n",
        "The air in Indonesia, especially DKI Jakarta has poor quality, it can be seen that the cause is the large number of motorized vehicle activities outside the room, causing pollution to increase.\n",
        "\n",
        "In this project, we try to predict whether an air has a `healthy` or `unhealthy` quality\n",
        "\n",
        "To achieve our goal, we use a `Machine Learning` model to classify our datasets in order to predict the air quality.\n",
        "\n",
        "To evaluate the performance of the model, we use metric scores in the form of accuracy, precision, recall, and f1 score, but focus more on the f1-score, as well as the use of a confusion matrix.\n",
        "\n",
        "### Acknowledge\n",
        "The data we take can be seen from [Jakarta Open Data](https://data.jakarta.go.id/dataset/indeks-standar-pencemaran-udara-ispu-tahun-2021) "
      ],
      "metadata": {
        "id": "DUnGYMoF-q-v"
      }
    },
    {
      "cell_type": "markdown",
      "source": [
        "## Combining dataset each month"
      ],
      "metadata": {
        "id": "6C5nQU7cP61V"
      }
    },
    {
      "cell_type": "code",
      "execution_count": null,
      "metadata": {
        "id": "bY7WHoy2LhG9"
      },
      "outputs": [],
      "source": [
        "import pandas as pd\n",
        "import numpy as np"
      ]
    },
    {
      "cell_type": "code",
      "source": [
        "df_januari = pd.read_csv('https://raw.githubusercontent.com/DnYAlv/Intelligent_System/main/ML_Final_project/Dataset/Raw_Data/indeks-standar-pencemar-udara-di-spku-bulan-januari-tahun-2021.csv')\n",
        "df_januari.columns =['tanggal', 'stasiun', 'pm10', 'pm25', 'so2', 'co', 'o3', 'no2', 'max',\n",
        "       'critical', 'categori']\n",
        "\n",
        "df_februari = pd.read_csv('https://raw.githubusercontent.com/DnYAlv/Intelligent_System/main/ML_Final_project/Dataset/Raw_Data/indeks-standar-pencemar-udara-di-spku-bulan-februari-tahun-2021.csv')\n",
        "df_februari.columns =['tanggal', 'stasiun', 'pm10', 'pm25', 'so2', 'co', 'o3', 'no2', 'max',\n",
        "       'critical', 'categori'] \n",
        "\n",
        "df_maret = pd.read_csv('https://raw.githubusercontent.com/DnYAlv/Intelligent_System/main/ML_Final_project/Dataset/Raw_Data/indeks-standar-pencemar-udara-di-spku-bulan-maret-tahun-2021.csv')\n",
        "df_maret.columns = ['tanggal', 'stasiun', 'pm10', 'pm25', 'so2', 'co', 'o3', 'no2', 'max',\n",
        "       'critical', 'categori']\n",
        "\n",
        "df_april = pd.read_csv('https://raw.githubusercontent.com/DnYAlv/Intelligent_System/main/ML_Final_project/Dataset/Raw_Data/indeks-standar-pencemar-udara-di-spku-bulan-april-tahun-2021.csv')\n",
        "df_april.columns = ['tanggal', 'stasiun', 'pm10', 'pm25', 'so2', 'co', 'o3', 'no2', 'max',\n",
        "       'critical', 'categori']\n",
        "\n",
        "df_mei = pd.read_csv('https://raw.githubusercontent.com/DnYAlv/Intelligent_System/main/ML_Final_project/Dataset/Raw_Data/indeks-standar-pencemar-udara-di-spku-bulan-mei-tahun-2021.csv')\n",
        "df_mei.columns = ['tanggal', 'stasiun', 'pm10', 'pm25', 'so2', 'co', 'o3', 'no2', 'max',\n",
        "       'critical', 'categori']\n",
        "\n",
        "df_juni = pd.read_csv('https://raw.githubusercontent.com/DnYAlv/Intelligent_System/main/ML_Final_project/Dataset/Raw_Data/indeks-standar-pencemar-udara-di-spku-bulan-juni-tahun-2021.csv')\n",
        "df_juni.columns = ['tanggal', 'stasiun', 'pm10', 'pm25', 'so2', 'co', 'o3', 'no2', 'max',\n",
        "       'critical', 'categori']\n",
        "\n",
        "df_juli = pd.read_csv('https://raw.githubusercontent.com/DnYAlv/Intelligent_System/main/ML_Final_project/Dataset/Raw_Data/indeks-standar-pencemar-udara-di-spku-bulan-juli-tahun-2021.csv')\n",
        "df_juli.columns = ['tanggal', 'stasiun', 'pm10', 'pm25', 'so2', 'co', 'o3', 'no2', 'max',\n",
        "       'critical', 'categori']\n",
        "\n",
        "df_agustus = pd.read_csv('https://raw.githubusercontent.com/DnYAlv/Intelligent_System/main/ML_Final_project/Dataset/Raw_Data/indeks-standar-pencemar-udara-di-spku-bulan-agustus-tahun-2021.csv')\n",
        "df_agustus.columns= ['tanggal', 'stasiun', 'pm10', 'pm25', 'so2', 'co', 'o3', 'no2', 'max',\n",
        "       'critical', 'categori']\n",
        "\n",
        "df_september = pd.read_csv('https://raw.githubusercontent.com/DnYAlv/Intelligent_System/main/ML_Final_project/Dataset/Raw_Data/indeks-standar-pencemar-udara-di-spku-bulan-september-tahun-2021.csv')\n",
        "df_september.columns = ['tanggal', 'stasiun', 'pm10', 'pm25', 'so2', 'co', 'o3', 'no2', 'max',\n",
        "       'critical', 'categori']\n",
        "\n",
        "df_oktober = pd.read_csv('https://raw.githubusercontent.com/DnYAlv/Intelligent_System/main/ML_Final_project/Dataset/Raw_Data/indeks-standar-pencemar-udara-di-spku-bulan-oktober-tahun-2021.csv')\n",
        "df_oktober.columns = ['tanggal', 'stasiun', 'pm10', 'pm25', 'so2', 'co', 'o3', 'no2', 'max',\n",
        "       'critical', 'categori']\n",
        "\n",
        "df_november = pd.read_csv('https://raw.githubusercontent.com/DnYAlv/Intelligent_System/main/ML_Final_project/Dataset/Raw_Data/indeks-standar-pencemar-udara-di-spku-bulan-november-tahun-2021.csv')\n",
        "df_november.columns = ['tanggal', 'stasiun', 'pm10', 'pm25', 'so2', 'co', 'o3', 'no2', 'max',\n",
        "       'critical', 'categori']\n",
        "\n",
        "df_desember = pd.read_csv('https://raw.githubusercontent.com/DnYAlv/Intelligent_System/main/ML_Final_project/Dataset/Raw_Data/indeks-standar-pencemar-udara-di-spku-bulan-desember-tahun-2021.csv')\n",
        "df_desember.columns = ['tanggal', 'stasiun', 'pm10', 'pm25', 'so2', 'co', 'o3', 'no2', 'max',\n",
        "       'critical', 'categori']"
      ],
      "metadata": {
        "id": "9b8NwH5oL74c"
      },
      "execution_count": null,
      "outputs": []
    },
    {
      "cell_type": "code",
      "source": [
        "df = pd.concat([df_januari,df_februari,df_maret,df_april ,df_mei,df_juni,df_juli ,df_agustus,df_september,\n",
        "                df_oktober,df_november,df_desember])"
      ],
      "metadata": {
        "id": "zHimAwsHMIZR"
      },
      "execution_count": null,
      "outputs": []
    },
    {
      "cell_type": "code",
      "source": [
        "df"
      ],
      "metadata": {
        "id": "uwZmHKLZOn6b",
        "colab": {
          "base_uri": "https://localhost:8080/",
          "height": 424
        },
        "outputId": "1704e70e-ad07-47ee-9d05-7d3a3300a755"
      },
      "execution_count": null,
      "outputs": [
        {
          "output_type": "execute_result",
          "data": {
            "text/plain": [
              "        tanggal                           stasiun pm10 pm25 so2  co  o3 no2  \\\n",
              "0    2021-01-01                DKI1 (Bunderan HI)   38   53  29   6  31  13   \n",
              "1    2021-01-02                DKI1 (Bunderan HI)   27   46  27   7  47   7   \n",
              "2    2021-01-03                DKI1 (Bunderan HI)   44   58  25   7  40  13   \n",
              "3    2021-01-04                DKI1 (Bunderan HI)   30   48  24   4  32   7   \n",
              "4    2021-01-05                DKI1 (Bunderan HI)   38   53  24   6  31   9   \n",
              "..          ...                               ...  ...  ...  ..  ..  ..  ..   \n",
              "150  2021-12-27  DKI5 (Kebon Jeruk) Jakarta Barat   54   76  36  14  21  47   \n",
              "151  2021-12-28  DKI5 (Kebon Jeruk) Jakarta Barat   44   68  20  11  21  33   \n",
              "152  2021-12-29  DKI5 (Kebon Jeruk) Jakarta Barat   34   54  28   8  25  29   \n",
              "153  2021-12-30  DKI5 (Kebon Jeruk) Jakarta Barat   53   75  25  15  23  44   \n",
              "154  2021-12-31  DKI5 (Kebon Jeruk) Jakarta Barat   60   87  28  19  30  53   \n",
              "\n",
              "    max critical categori  \n",
              "0    53     PM25   SEDANG  \n",
              "1    47       O3     BAIK  \n",
              "2    58     PM25   SEDANG  \n",
              "3    48     PM25     BAIK  \n",
              "4    53     PM25   SEDANG  \n",
              "..   ..      ...      ...  \n",
              "150  76     PM25   SEDANG  \n",
              "151  68     PM25   SEDANG  \n",
              "152  54     PM25   SEDANG  \n",
              "153  75     PM25   SEDANG  \n",
              "154  87     PM25   SEDANG  \n",
              "\n",
              "[1825 rows x 11 columns]"
            ],
            "text/html": [
              "\n",
              "  <div id=\"df-fb13a332-b9c2-41c5-ae70-ef6030f56162\">\n",
              "    <div class=\"colab-df-container\">\n",
              "      <div>\n",
              "<style scoped>\n",
              "    .dataframe tbody tr th:only-of-type {\n",
              "        vertical-align: middle;\n",
              "    }\n",
              "\n",
              "    .dataframe tbody tr th {\n",
              "        vertical-align: top;\n",
              "    }\n",
              "\n",
              "    .dataframe thead th {\n",
              "        text-align: right;\n",
              "    }\n",
              "</style>\n",
              "<table border=\"1\" class=\"dataframe\">\n",
              "  <thead>\n",
              "    <tr style=\"text-align: right;\">\n",
              "      <th></th>\n",
              "      <th>tanggal</th>\n",
              "      <th>stasiun</th>\n",
              "      <th>pm10</th>\n",
              "      <th>pm25</th>\n",
              "      <th>so2</th>\n",
              "      <th>co</th>\n",
              "      <th>o3</th>\n",
              "      <th>no2</th>\n",
              "      <th>max</th>\n",
              "      <th>critical</th>\n",
              "      <th>categori</th>\n",
              "    </tr>\n",
              "  </thead>\n",
              "  <tbody>\n",
              "    <tr>\n",
              "      <th>0</th>\n",
              "      <td>2021-01-01</td>\n",
              "      <td>DKI1 (Bunderan HI)</td>\n",
              "      <td>38</td>\n",
              "      <td>53</td>\n",
              "      <td>29</td>\n",
              "      <td>6</td>\n",
              "      <td>31</td>\n",
              "      <td>13</td>\n",
              "      <td>53</td>\n",
              "      <td>PM25</td>\n",
              "      <td>SEDANG</td>\n",
              "    </tr>\n",
              "    <tr>\n",
              "      <th>1</th>\n",
              "      <td>2021-01-02</td>\n",
              "      <td>DKI1 (Bunderan HI)</td>\n",
              "      <td>27</td>\n",
              "      <td>46</td>\n",
              "      <td>27</td>\n",
              "      <td>7</td>\n",
              "      <td>47</td>\n",
              "      <td>7</td>\n",
              "      <td>47</td>\n",
              "      <td>O3</td>\n",
              "      <td>BAIK</td>\n",
              "    </tr>\n",
              "    <tr>\n",
              "      <th>2</th>\n",
              "      <td>2021-01-03</td>\n",
              "      <td>DKI1 (Bunderan HI)</td>\n",
              "      <td>44</td>\n",
              "      <td>58</td>\n",
              "      <td>25</td>\n",
              "      <td>7</td>\n",
              "      <td>40</td>\n",
              "      <td>13</td>\n",
              "      <td>58</td>\n",
              "      <td>PM25</td>\n",
              "      <td>SEDANG</td>\n",
              "    </tr>\n",
              "    <tr>\n",
              "      <th>3</th>\n",
              "      <td>2021-01-04</td>\n",
              "      <td>DKI1 (Bunderan HI)</td>\n",
              "      <td>30</td>\n",
              "      <td>48</td>\n",
              "      <td>24</td>\n",
              "      <td>4</td>\n",
              "      <td>32</td>\n",
              "      <td>7</td>\n",
              "      <td>48</td>\n",
              "      <td>PM25</td>\n",
              "      <td>BAIK</td>\n",
              "    </tr>\n",
              "    <tr>\n",
              "      <th>4</th>\n",
              "      <td>2021-01-05</td>\n",
              "      <td>DKI1 (Bunderan HI)</td>\n",
              "      <td>38</td>\n",
              "      <td>53</td>\n",
              "      <td>24</td>\n",
              "      <td>6</td>\n",
              "      <td>31</td>\n",
              "      <td>9</td>\n",
              "      <td>53</td>\n",
              "      <td>PM25</td>\n",
              "      <td>SEDANG</td>\n",
              "    </tr>\n",
              "    <tr>\n",
              "      <th>...</th>\n",
              "      <td>...</td>\n",
              "      <td>...</td>\n",
              "      <td>...</td>\n",
              "      <td>...</td>\n",
              "      <td>...</td>\n",
              "      <td>...</td>\n",
              "      <td>...</td>\n",
              "      <td>...</td>\n",
              "      <td>...</td>\n",
              "      <td>...</td>\n",
              "      <td>...</td>\n",
              "    </tr>\n",
              "    <tr>\n",
              "      <th>150</th>\n",
              "      <td>2021-12-27</td>\n",
              "      <td>DKI5 (Kebon Jeruk) Jakarta Barat</td>\n",
              "      <td>54</td>\n",
              "      <td>76</td>\n",
              "      <td>36</td>\n",
              "      <td>14</td>\n",
              "      <td>21</td>\n",
              "      <td>47</td>\n",
              "      <td>76</td>\n",
              "      <td>PM25</td>\n",
              "      <td>SEDANG</td>\n",
              "    </tr>\n",
              "    <tr>\n",
              "      <th>151</th>\n",
              "      <td>2021-12-28</td>\n",
              "      <td>DKI5 (Kebon Jeruk) Jakarta Barat</td>\n",
              "      <td>44</td>\n",
              "      <td>68</td>\n",
              "      <td>20</td>\n",
              "      <td>11</td>\n",
              "      <td>21</td>\n",
              "      <td>33</td>\n",
              "      <td>68</td>\n",
              "      <td>PM25</td>\n",
              "      <td>SEDANG</td>\n",
              "    </tr>\n",
              "    <tr>\n",
              "      <th>152</th>\n",
              "      <td>2021-12-29</td>\n",
              "      <td>DKI5 (Kebon Jeruk) Jakarta Barat</td>\n",
              "      <td>34</td>\n",
              "      <td>54</td>\n",
              "      <td>28</td>\n",
              "      <td>8</td>\n",
              "      <td>25</td>\n",
              "      <td>29</td>\n",
              "      <td>54</td>\n",
              "      <td>PM25</td>\n",
              "      <td>SEDANG</td>\n",
              "    </tr>\n",
              "    <tr>\n",
              "      <th>153</th>\n",
              "      <td>2021-12-30</td>\n",
              "      <td>DKI5 (Kebon Jeruk) Jakarta Barat</td>\n",
              "      <td>53</td>\n",
              "      <td>75</td>\n",
              "      <td>25</td>\n",
              "      <td>15</td>\n",
              "      <td>23</td>\n",
              "      <td>44</td>\n",
              "      <td>75</td>\n",
              "      <td>PM25</td>\n",
              "      <td>SEDANG</td>\n",
              "    </tr>\n",
              "    <tr>\n",
              "      <th>154</th>\n",
              "      <td>2021-12-31</td>\n",
              "      <td>DKI5 (Kebon Jeruk) Jakarta Barat</td>\n",
              "      <td>60</td>\n",
              "      <td>87</td>\n",
              "      <td>28</td>\n",
              "      <td>19</td>\n",
              "      <td>30</td>\n",
              "      <td>53</td>\n",
              "      <td>87</td>\n",
              "      <td>PM25</td>\n",
              "      <td>SEDANG</td>\n",
              "    </tr>\n",
              "  </tbody>\n",
              "</table>\n",
              "<p>1825 rows × 11 columns</p>\n",
              "</div>\n",
              "      <button class=\"colab-df-convert\" onclick=\"convertToInteractive('df-fb13a332-b9c2-41c5-ae70-ef6030f56162')\"\n",
              "              title=\"Convert this dataframe to an interactive table.\"\n",
              "              style=\"display:none;\">\n",
              "        \n",
              "  <svg xmlns=\"http://www.w3.org/2000/svg\" height=\"24px\"viewBox=\"0 0 24 24\"\n",
              "       width=\"24px\">\n",
              "    <path d=\"M0 0h24v24H0V0z\" fill=\"none\"/>\n",
              "    <path d=\"M18.56 5.44l.94 2.06.94-2.06 2.06-.94-2.06-.94-.94-2.06-.94 2.06-2.06.94zm-11 1L8.5 8.5l.94-2.06 2.06-.94-2.06-.94L8.5 2.5l-.94 2.06-2.06.94zm10 10l.94 2.06.94-2.06 2.06-.94-2.06-.94-.94-2.06-.94 2.06-2.06.94z\"/><path d=\"M17.41 7.96l-1.37-1.37c-.4-.4-.92-.59-1.43-.59-.52 0-1.04.2-1.43.59L10.3 9.45l-7.72 7.72c-.78.78-.78 2.05 0 2.83L4 21.41c.39.39.9.59 1.41.59.51 0 1.02-.2 1.41-.59l7.78-7.78 2.81-2.81c.8-.78.8-2.07 0-2.86zM5.41 20L4 18.59l7.72-7.72 1.47 1.35L5.41 20z\"/>\n",
              "  </svg>\n",
              "      </button>\n",
              "      \n",
              "  <style>\n",
              "    .colab-df-container {\n",
              "      display:flex;\n",
              "      flex-wrap:wrap;\n",
              "      gap: 12px;\n",
              "    }\n",
              "\n",
              "    .colab-df-convert {\n",
              "      background-color: #E8F0FE;\n",
              "      border: none;\n",
              "      border-radius: 50%;\n",
              "      cursor: pointer;\n",
              "      display: none;\n",
              "      fill: #1967D2;\n",
              "      height: 32px;\n",
              "      padding: 0 0 0 0;\n",
              "      width: 32px;\n",
              "    }\n",
              "\n",
              "    .colab-df-convert:hover {\n",
              "      background-color: #E2EBFA;\n",
              "      box-shadow: 0px 1px 2px rgba(60, 64, 67, 0.3), 0px 1px 3px 1px rgba(60, 64, 67, 0.15);\n",
              "      fill: #174EA6;\n",
              "    }\n",
              "\n",
              "    [theme=dark] .colab-df-convert {\n",
              "      background-color: #3B4455;\n",
              "      fill: #D2E3FC;\n",
              "    }\n",
              "\n",
              "    [theme=dark] .colab-df-convert:hover {\n",
              "      background-color: #434B5C;\n",
              "      box-shadow: 0px 1px 3px 1px rgba(0, 0, 0, 0.15);\n",
              "      filter: drop-shadow(0px 1px 2px rgba(0, 0, 0, 0.3));\n",
              "      fill: #FFFFFF;\n",
              "    }\n",
              "  </style>\n",
              "\n",
              "      <script>\n",
              "        const buttonEl =\n",
              "          document.querySelector('#df-fb13a332-b9c2-41c5-ae70-ef6030f56162 button.colab-df-convert');\n",
              "        buttonEl.style.display =\n",
              "          google.colab.kernel.accessAllowed ? 'block' : 'none';\n",
              "\n",
              "        async function convertToInteractive(key) {\n",
              "          const element = document.querySelector('#df-fb13a332-b9c2-41c5-ae70-ef6030f56162');\n",
              "          const dataTable =\n",
              "            await google.colab.kernel.invokeFunction('convertToInteractive',\n",
              "                                                     [key], {});\n",
              "          if (!dataTable) return;\n",
              "\n",
              "          const docLinkHtml = 'Like what you see? Visit the ' +\n",
              "            '<a target=\"_blank\" href=https://colab.research.google.com/notebooks/data_table.ipynb>data table notebook</a>'\n",
              "            + ' to learn more about interactive tables.';\n",
              "          element.innerHTML = '';\n",
              "          dataTable['output_type'] = 'display_data';\n",
              "          await google.colab.output.renderOutput(dataTable, element);\n",
              "          const docLink = document.createElement('div');\n",
              "          docLink.innerHTML = docLinkHtml;\n",
              "          element.appendChild(docLink);\n",
              "        }\n",
              "      </script>\n",
              "    </div>\n",
              "  </div>\n",
              "  "
            ]
          },
          "metadata": {},
          "execution_count": 4
        }
      ]
    },
    {
      "cell_type": "code",
      "source": [
        "df.to_csv('SPKU_data_Januari-Desember-2021.csv', index=False)"
      ],
      "metadata": {
        "id": "C7fW0CSCPR0H"
      },
      "execution_count": null,
      "outputs": []
    },
    {
      "cell_type": "markdown",
      "source": [
        "## Importing Libraries"
      ],
      "metadata": {
        "id": "caVUFr8xP_MB"
      }
    },
    {
      "cell_type": "code",
      "source": [
        "# Visualization\n",
        "import matplotlib.pyplot as plt\n",
        "import seaborn as sns\n",
        "\n",
        "# Normalization\n",
        "from sklearn.preprocessing import MinMaxScaler, StandardScaler, OneHotEncoder\n",
        "\n",
        "# Splitting\n",
        "from sklearn.model_selection import train_test_split\n",
        "\n",
        "# Missing Values\n",
        "from scipy.stats import mode\n",
        "from sklearn.impute import KNNImputer\n",
        "\n",
        "# Metrics\n",
        "from sklearn.metrics import accuracy_score, precision_score, recall_score, f1_score, classification_report, confusion_matrix\n",
        "\n",
        "from imblearn.over_sampling import SMOTE\n",
        "\n",
        "# K Fold\n",
        "from random import randrange\n",
        "\n",
        "import warnings\n",
        "warnings.filterwarnings(\"ignore\")"
      ],
      "metadata": {
        "id": "rmKvx4s2PodO"
      },
      "execution_count": null,
      "outputs": []
    },
    {
      "cell_type": "code",
      "source": [
        "df = pd.read_csv('https://raw.githubusercontent.com/DnYAlv/Intelligent_System/main/ML_Final_project/Dataset/SPKU_data_Januari-Desember-2021.csv')"
      ],
      "metadata": {
        "id": "K5sy5YFWWsno"
      },
      "execution_count": null,
      "outputs": []
    },
    {
      "cell_type": "code",
      "source": [
        "df.head()"
      ],
      "metadata": {
        "colab": {
          "base_uri": "https://localhost:8080/",
          "height": 206
        },
        "id": "jCkCVwI7W0XZ",
        "outputId": "2f781aab-b620-4126-dede-1ff0c1118282"
      },
      "execution_count": null,
      "outputs": [
        {
          "output_type": "execute_result",
          "data": {
            "text/plain": [
              "      tanggal             stasiun pm10 pm25 so2 co  o3 no2 max critical  \\\n",
              "0  2021-01-01  DKI1 (Bunderan HI)   38   53  29  6  31  13  53     PM25   \n",
              "1  2021-01-02  DKI1 (Bunderan HI)   27   46  27  7  47   7  47       O3   \n",
              "2  2021-01-03  DKI1 (Bunderan HI)   44   58  25  7  40  13  58     PM25   \n",
              "3  2021-01-04  DKI1 (Bunderan HI)   30   48  24  4  32   7  48     PM25   \n",
              "4  2021-01-05  DKI1 (Bunderan HI)   38   53  24  6  31   9  53     PM25   \n",
              "\n",
              "  categori  \n",
              "0   SEDANG  \n",
              "1     BAIK  \n",
              "2   SEDANG  \n",
              "3     BAIK  \n",
              "4   SEDANG  "
            ],
            "text/html": [
              "\n",
              "  <div id=\"df-ba0105e3-1f08-4fdc-a5f9-f54d2c710d41\">\n",
              "    <div class=\"colab-df-container\">\n",
              "      <div>\n",
              "<style scoped>\n",
              "    .dataframe tbody tr th:only-of-type {\n",
              "        vertical-align: middle;\n",
              "    }\n",
              "\n",
              "    .dataframe tbody tr th {\n",
              "        vertical-align: top;\n",
              "    }\n",
              "\n",
              "    .dataframe thead th {\n",
              "        text-align: right;\n",
              "    }\n",
              "</style>\n",
              "<table border=\"1\" class=\"dataframe\">\n",
              "  <thead>\n",
              "    <tr style=\"text-align: right;\">\n",
              "      <th></th>\n",
              "      <th>tanggal</th>\n",
              "      <th>stasiun</th>\n",
              "      <th>pm10</th>\n",
              "      <th>pm25</th>\n",
              "      <th>so2</th>\n",
              "      <th>co</th>\n",
              "      <th>o3</th>\n",
              "      <th>no2</th>\n",
              "      <th>max</th>\n",
              "      <th>critical</th>\n",
              "      <th>categori</th>\n",
              "    </tr>\n",
              "  </thead>\n",
              "  <tbody>\n",
              "    <tr>\n",
              "      <th>0</th>\n",
              "      <td>2021-01-01</td>\n",
              "      <td>DKI1 (Bunderan HI)</td>\n",
              "      <td>38</td>\n",
              "      <td>53</td>\n",
              "      <td>29</td>\n",
              "      <td>6</td>\n",
              "      <td>31</td>\n",
              "      <td>13</td>\n",
              "      <td>53</td>\n",
              "      <td>PM25</td>\n",
              "      <td>SEDANG</td>\n",
              "    </tr>\n",
              "    <tr>\n",
              "      <th>1</th>\n",
              "      <td>2021-01-02</td>\n",
              "      <td>DKI1 (Bunderan HI)</td>\n",
              "      <td>27</td>\n",
              "      <td>46</td>\n",
              "      <td>27</td>\n",
              "      <td>7</td>\n",
              "      <td>47</td>\n",
              "      <td>7</td>\n",
              "      <td>47</td>\n",
              "      <td>O3</td>\n",
              "      <td>BAIK</td>\n",
              "    </tr>\n",
              "    <tr>\n",
              "      <th>2</th>\n",
              "      <td>2021-01-03</td>\n",
              "      <td>DKI1 (Bunderan HI)</td>\n",
              "      <td>44</td>\n",
              "      <td>58</td>\n",
              "      <td>25</td>\n",
              "      <td>7</td>\n",
              "      <td>40</td>\n",
              "      <td>13</td>\n",
              "      <td>58</td>\n",
              "      <td>PM25</td>\n",
              "      <td>SEDANG</td>\n",
              "    </tr>\n",
              "    <tr>\n",
              "      <th>3</th>\n",
              "      <td>2021-01-04</td>\n",
              "      <td>DKI1 (Bunderan HI)</td>\n",
              "      <td>30</td>\n",
              "      <td>48</td>\n",
              "      <td>24</td>\n",
              "      <td>4</td>\n",
              "      <td>32</td>\n",
              "      <td>7</td>\n",
              "      <td>48</td>\n",
              "      <td>PM25</td>\n",
              "      <td>BAIK</td>\n",
              "    </tr>\n",
              "    <tr>\n",
              "      <th>4</th>\n",
              "      <td>2021-01-05</td>\n",
              "      <td>DKI1 (Bunderan HI)</td>\n",
              "      <td>38</td>\n",
              "      <td>53</td>\n",
              "      <td>24</td>\n",
              "      <td>6</td>\n",
              "      <td>31</td>\n",
              "      <td>9</td>\n",
              "      <td>53</td>\n",
              "      <td>PM25</td>\n",
              "      <td>SEDANG</td>\n",
              "    </tr>\n",
              "  </tbody>\n",
              "</table>\n",
              "</div>\n",
              "      <button class=\"colab-df-convert\" onclick=\"convertToInteractive('df-ba0105e3-1f08-4fdc-a5f9-f54d2c710d41')\"\n",
              "              title=\"Convert this dataframe to an interactive table.\"\n",
              "              style=\"display:none;\">\n",
              "        \n",
              "  <svg xmlns=\"http://www.w3.org/2000/svg\" height=\"24px\"viewBox=\"0 0 24 24\"\n",
              "       width=\"24px\">\n",
              "    <path d=\"M0 0h24v24H0V0z\" fill=\"none\"/>\n",
              "    <path d=\"M18.56 5.44l.94 2.06.94-2.06 2.06-.94-2.06-.94-.94-2.06-.94 2.06-2.06.94zm-11 1L8.5 8.5l.94-2.06 2.06-.94-2.06-.94L8.5 2.5l-.94 2.06-2.06.94zm10 10l.94 2.06.94-2.06 2.06-.94-2.06-.94-.94-2.06-.94 2.06-2.06.94z\"/><path d=\"M17.41 7.96l-1.37-1.37c-.4-.4-.92-.59-1.43-.59-.52 0-1.04.2-1.43.59L10.3 9.45l-7.72 7.72c-.78.78-.78 2.05 0 2.83L4 21.41c.39.39.9.59 1.41.59.51 0 1.02-.2 1.41-.59l7.78-7.78 2.81-2.81c.8-.78.8-2.07 0-2.86zM5.41 20L4 18.59l7.72-7.72 1.47 1.35L5.41 20z\"/>\n",
              "  </svg>\n",
              "      </button>\n",
              "      \n",
              "  <style>\n",
              "    .colab-df-container {\n",
              "      display:flex;\n",
              "      flex-wrap:wrap;\n",
              "      gap: 12px;\n",
              "    }\n",
              "\n",
              "    .colab-df-convert {\n",
              "      background-color: #E8F0FE;\n",
              "      border: none;\n",
              "      border-radius: 50%;\n",
              "      cursor: pointer;\n",
              "      display: none;\n",
              "      fill: #1967D2;\n",
              "      height: 32px;\n",
              "      padding: 0 0 0 0;\n",
              "      width: 32px;\n",
              "    }\n",
              "\n",
              "    .colab-df-convert:hover {\n",
              "      background-color: #E2EBFA;\n",
              "      box-shadow: 0px 1px 2px rgba(60, 64, 67, 0.3), 0px 1px 3px 1px rgba(60, 64, 67, 0.15);\n",
              "      fill: #174EA6;\n",
              "    }\n",
              "\n",
              "    [theme=dark] .colab-df-convert {\n",
              "      background-color: #3B4455;\n",
              "      fill: #D2E3FC;\n",
              "    }\n",
              "\n",
              "    [theme=dark] .colab-df-convert:hover {\n",
              "      background-color: #434B5C;\n",
              "      box-shadow: 0px 1px 3px 1px rgba(0, 0, 0, 0.15);\n",
              "      filter: drop-shadow(0px 1px 2px rgba(0, 0, 0, 0.3));\n",
              "      fill: #FFFFFF;\n",
              "    }\n",
              "  </style>\n",
              "\n",
              "      <script>\n",
              "        const buttonEl =\n",
              "          document.querySelector('#df-ba0105e3-1f08-4fdc-a5f9-f54d2c710d41 button.colab-df-convert');\n",
              "        buttonEl.style.display =\n",
              "          google.colab.kernel.accessAllowed ? 'block' : 'none';\n",
              "\n",
              "        async function convertToInteractive(key) {\n",
              "          const element = document.querySelector('#df-ba0105e3-1f08-4fdc-a5f9-f54d2c710d41');\n",
              "          const dataTable =\n",
              "            await google.colab.kernel.invokeFunction('convertToInteractive',\n",
              "                                                     [key], {});\n",
              "          if (!dataTable) return;\n",
              "\n",
              "          const docLinkHtml = 'Like what you see? Visit the ' +\n",
              "            '<a target=\"_blank\" href=https://colab.research.google.com/notebooks/data_table.ipynb>data table notebook</a>'\n",
              "            + ' to learn more about interactive tables.';\n",
              "          element.innerHTML = '';\n",
              "          dataTable['output_type'] = 'display_data';\n",
              "          await google.colab.output.renderOutput(dataTable, element);\n",
              "          const docLink = document.createElement('div');\n",
              "          docLink.innerHTML = docLinkHtml;\n",
              "          element.appendChild(docLink);\n",
              "        }\n",
              "      </script>\n",
              "    </div>\n",
              "  </div>\n",
              "  "
            ]
          },
          "metadata": {},
          "execution_count": 8
        }
      ]
    },
    {
      "cell_type": "markdown",
      "source": [
        "## Exploratory Data Analysis"
      ],
      "metadata": {
        "id": "4zBupbXIQ5Bs"
      }
    },
    {
      "cell_type": "code",
      "source": [
        "df.info()"
      ],
      "metadata": {
        "colab": {
          "base_uri": "https://localhost:8080/"
        },
        "id": "exDaw1GZQn8h",
        "outputId": "30c7f032-de89-48a0-bdee-b4ae5859035e"
      },
      "execution_count": null,
      "outputs": [
        {
          "output_type": "stream",
          "name": "stdout",
          "text": [
            "<class 'pandas.core.frame.DataFrame'>\n",
            "RangeIndex: 1825 entries, 0 to 1824\n",
            "Data columns (total 11 columns):\n",
            " #   Column    Non-Null Count  Dtype \n",
            "---  ------    --------------  ----- \n",
            " 0   tanggal   1825 non-null   object\n",
            " 1   stasiun   1825 non-null   object\n",
            " 2   pm10      1825 non-null   object\n",
            " 3   pm25      1763 non-null   object\n",
            " 4   so2       1825 non-null   object\n",
            " 5   co        1825 non-null   object\n",
            " 6   o3        1825 non-null   object\n",
            " 7   no2       1825 non-null   object\n",
            " 8   max       1825 non-null   object\n",
            " 9   critical  1809 non-null   object\n",
            " 10  categori  1824 non-null   object\n",
            "dtypes: object(11)\n",
            "memory usage: 157.0+ KB\n"
          ]
        }
      ]
    },
    {
      "cell_type": "markdown",
      "source": [
        "#### Tanggal"
      ],
      "metadata": {
        "id": "wYFqGX-iXhBK"
      }
    },
    {
      "cell_type": "code",
      "source": [
        "df['tanggal']"
      ],
      "metadata": {
        "colab": {
          "base_uri": "https://localhost:8080/"
        },
        "id": "hF9e2dMOXi9w",
        "outputId": "552197a0-aee1-4af3-8361-c7855a1884e5"
      },
      "execution_count": null,
      "outputs": [
        {
          "output_type": "execute_result",
          "data": {
            "text/plain": [
              "0       2021-01-01\n",
              "1       2021-01-02\n",
              "2       2021-01-03\n",
              "3       2021-01-04\n",
              "4       2021-01-05\n",
              "           ...    \n",
              "1820    2021-12-27\n",
              "1821    2021-12-28\n",
              "1822    2021-12-29\n",
              "1823    2021-12-30\n",
              "1824    2021-12-31\n",
              "Name: tanggal, Length: 1825, dtype: object"
            ]
          },
          "metadata": {},
          "execution_count": 10
        }
      ]
    },
    {
      "cell_type": "markdown",
      "source": [
        "> As we can see, the dtype of this variable is `object` where actually, this variables need to be in timestamp dtype."
      ],
      "metadata": {
        "id": "Jvqg7ySsXpGs"
      }
    },
    {
      "cell_type": "code",
      "source": [
        "df['tanggal'] = pd.to_datetime(df['tanggal'], format='%Y-%m-%d')\n",
        "df['tanggal']"
      ],
      "metadata": {
        "colab": {
          "base_uri": "https://localhost:8080/"
        },
        "id": "7NEGW7wPXv5j",
        "outputId": "327ae88b-e3b7-4e4f-815e-bcba7adbcca0"
      },
      "execution_count": null,
      "outputs": [
        {
          "output_type": "execute_result",
          "data": {
            "text/plain": [
              "0      2021-01-01\n",
              "1      2021-01-02\n",
              "2      2021-01-03\n",
              "3      2021-01-04\n",
              "4      2021-01-05\n",
              "          ...    \n",
              "1820   2021-12-27\n",
              "1821   2021-12-28\n",
              "1822   2021-12-29\n",
              "1823   2021-12-30\n",
              "1824   2021-12-31\n",
              "Name: tanggal, Length: 1825, dtype: datetime64[ns]"
            ]
          },
          "metadata": {},
          "execution_count": 11
        }
      ]
    },
    {
      "cell_type": "markdown",
      "source": [
        "#### Category based on Month in \"Tanggal\""
      ],
      "metadata": {
        "id": "sTThMBsnYQPN"
      }
    },
    {
      "cell_type": "code",
      "source": [
        "df['tanggal'].dt.strftime('%B')"
      ],
      "metadata": {
        "colab": {
          "base_uri": "https://localhost:8080/"
        },
        "id": "-FjXcWvEZPMq",
        "outputId": "e89a895e-b9ea-4a9a-bf81-f733d1af0cfc"
      },
      "execution_count": null,
      "outputs": [
        {
          "output_type": "execute_result",
          "data": {
            "text/plain": [
              "0        January\n",
              "1        January\n",
              "2        January\n",
              "3        January\n",
              "4        January\n",
              "          ...   \n",
              "1820    December\n",
              "1821    December\n",
              "1822    December\n",
              "1823    December\n",
              "1824    December\n",
              "Name: tanggal, Length: 1825, dtype: object"
            ]
          },
          "metadata": {},
          "execution_count": 12
        }
      ]
    },
    {
      "cell_type": "code",
      "source": [
        "plt.figure(figsize=(12,8))\n",
        "sns.countplot(x='categori', hue=df['tanggal'].dt.strftime('%B'), data=df)\n",
        "plt.title('Category distributions based on month in \"Tanggal\"')\n",
        "plt.show()"
      ],
      "metadata": {
        "colab": {
          "base_uri": "https://localhost:8080/",
          "height": 513
        },
        "id": "h9M-ZnblYKMI",
        "outputId": "29d88dbe-6c4b-459b-b31f-e5d0a26231a6"
      },
      "execution_count": null,
      "outputs": [
        {
          "output_type": "display_data",
          "data": {
            "text/plain": [
              "<Figure size 864x576 with 1 Axes>"
            ],
            "image/png": "[encoded data removed]"
          },
          "metadata": {
            "needs_background": "light"
          }
        }
      ]
    },
    {
      "cell_type": "markdown",
      "source": [
        "- Seems like mostly distributions of data were in \"SEDANG\" category, but for \"July\" people more likely to have a \"TIDAK SEHAT\" kind of air (polution)."
      ],
      "metadata": {
        "id": "LjEh4CnvZvkH"
      }
    },
    {
      "cell_type": "markdown",
      "source": [
        "#### Stasiun"
      ],
      "metadata": {
        "id": "Z07LhSoNaQdu"
      }
    },
    {
      "cell_type": "code",
      "source": [
        "sns.countplot(y='stasiun', data=df)\n",
        "plt.title('\"stasiun\" category distributions')\n",
        "plt.show()"
      ],
      "metadata": {
        "colab": {
          "base_uri": "https://localhost:8080/",
          "height": 295
        },
        "id": "CF43uHSMaP9l",
        "outputId": "ab4d7c4d-21ef-4066-b187-a8a9d10202cb"
      },
      "execution_count": null,
      "outputs": [
        {
          "output_type": "display_data",
          "data": {
            "text/plain": [
              "<Figure size 432x288 with 1 Axes>"
            ],
            "image/png": "[encoded data removed]"
          },
          "metadata": {
            "needs_background": "light"
          }
        }
      ]
    },
    {
      "cell_type": "markdown",
      "source": [
        "> Seems like we have a balanced distribution on \"stasiun\" variables, which is good."
      ],
      "metadata": {
        "id": "D4I1H_42a9Ip"
      }
    },
    {
      "cell_type": "markdown",
      "source": [
        "#### Stasiun vs Categori"
      ],
      "metadata": {
        "id": "ZX67knyvbIcW"
      }
    },
    {
      "cell_type": "code",
      "source": [
        "plt.figure(figsize=(12,8))\n",
        "sns.countplot(y='stasiun', hue='categori',data=df)\n",
        "plt.title('Relation between Stasiun and Categori')\n",
        "plt.show()"
      ],
      "metadata": {
        "colab": {
          "base_uri": "https://localhost:8080/",
          "height": 513
        },
        "id": "xxx8DItUbM5J",
        "outputId": "fc2800f2-a3c5-4dfb-d072-661fcab070a4"
      },
      "execution_count": null,
      "outputs": [
        {
          "output_type": "display_data",
          "data": {
            "text/plain": [
              "<Figure size 864x576 with 1 Axes>"
            ],
            "image/png": "[encoded data removed]"
          },
          "metadata": {
            "needs_background": "light"
          }
        }
      ]
    },
    {
      "cell_type": "markdown",
      "source": [
        "> \"SEDANG\" categori dominated most of these categories, but as we can see, stasiun called DK14 (Lubang Buaya) has a high distribution on \"TIDAK SEHAT\" categori, which means there are a lot of polution in that area (stasiun)"
      ],
      "metadata": {
        "id": "-6x_w5hUbmhd"
      }
    },
    {
      "cell_type": "markdown",
      "source": [
        "### Data Cleaning"
      ],
      "metadata": {
        "id": "TRSL80gKfbBR"
      }
    },
    {
      "cell_type": "code",
      "source": [
        "# Modifying nan value\n",
        "df=df.replace('---',np.nan)\n",
        "df = df[df['max'] != 'PM25'].reset_index(drop=True)\n",
        "\n",
        "# Modifying types\n",
        "df['pm10'] = df['pm10'].astype(str).astype(float)\n",
        "df['pm25'] = df['pm25'].astype(str).astype(float)\n",
        "df['so2'] = df['so2'].astype(str).astype(float)\n",
        "df['co'] = df['co'].astype(str).astype(float)\n",
        "df['o3'] = df['o3'].astype(str).astype(float)\n",
        "df['no2'] = df['no2'].astype(str).astype(float)\n",
        "df['max'] = df['max'].astype(str).astype(float)"
      ],
      "metadata": {
        "id": "HOZ2EF_MXlr9"
      },
      "execution_count": null,
      "outputs": []
    },
    {
      "cell_type": "markdown",
      "source": [
        "### Numerical Value Distributions"
      ],
      "metadata": {
        "id": "WT8qaKdmb8NO"
      }
    },
    {
      "cell_type": "code",
      "source": [
        "cols = ['pm10','pm25','so2','co','o3','no2','max']\n",
        "\n",
        "fig, ax = plt.subplots(len(cols), 3, figsize=(30,40))\n",
        "for i in range(len(cols)):\n",
        "  sns.histplot(x=cols[i], data=df, ax=ax[i][0], kde=True)\n",
        "  sns.boxplot(x=cols[i], data=df, ax=ax[i][1])\n",
        "  sns.violinplot(x=cols[i], data=df, ax=ax[i][2])\n",
        "  ax[i][1].set_title(cols[i], weight=1000)\n",
        "\n",
        "plt.suptitle('Distributions On Numerical Value Variables', size='xx-large', weight=1000)\n",
        "plt.show()"
      ],
      "metadata": {
        "colab": {
          "base_uri": "https://localhost:8080/",
          "height": 1000
        },
        "id": "2iftmB1ob-2P",
        "outputId": "1a2511d6-77fe-4412-b5fe-1c71e95ffc0e"
      },
      "execution_count": null,
      "outputs": [
        {
          "output_type": "display_data",
          "data": {
            "text/plain": [
              "<Figure size 2160x2880 with 21 Axes>"
            ],
            "image/png": "[encoded data removed]"
          },
          "metadata": {
            "needs_background": "light"
          }
        }
      ]
    },
    {
      "cell_type": "markdown",
      "source": [
        "> There are several variables that have relatively skewed distributions, this information may become handy as soon as we handle missing values."
      ],
      "metadata": {
        "id": "-UyljrsciUP7"
      }
    },
    {
      "cell_type": "markdown",
      "source": [
        "## Preprocessing\n",
        "\n",
        "\n",
        "\n"
      ],
      "metadata": {
        "id": "e879ny5tW-5A"
      }
    },
    {
      "cell_type": "markdown",
      "source": [
        "### Missing Values"
      ],
      "metadata": {
        "id": "HNyulawmRnyo"
      }
    },
    {
      "cell_type": "code",
      "source": [
        "df.isnull().sum()"
      ],
      "metadata": {
        "colab": {
          "base_uri": "https://localhost:8080/"
        },
        "id": "7sNQdbCpRXbR",
        "outputId": "39e3845e-3788-454b-d432-73961164b8ba"
      },
      "execution_count": null,
      "outputs": [
        {
          "output_type": "execute_result",
          "data": {
            "text/plain": [
              "tanggal       0\n",
              "stasiun       0\n",
              "pm10         68\n",
              "pm25        100\n",
              "so2         114\n",
              "co           36\n",
              "o3           68\n",
              "no2          35\n",
              "max           0\n",
              "critical     16\n",
              "categori      0\n",
              "dtype: int64"
            ]
          },
          "metadata": {},
          "execution_count": 18
        }
      ]
    },
    {
      "cell_type": "markdown",
      "source": [
        "#### Handling Missing Values\n",
        "- We are using KNNImputer for missing values\n",
        "> The idea for using KNNImputer for missing values is that KNN can find the neighbor for that missing values, in other way which means that we can find the **Mean** value taken from k-Nearest Neighbors on that missing values."
      ],
      "metadata": {
        "id": "ujYu-icvRzPs"
      }
    },
    {
      "cell_type": "code",
      "source": [
        "imputer = KNNImputer(n_neighbors=3)\n",
        "temp_arr = imputer.fit_transform(df[['pm10','pm25','so2','co','o3','no2']])"
      ],
      "metadata": {
        "id": "Dmh0JzMVpUtx"
      },
      "execution_count": null,
      "outputs": []
    },
    {
      "cell_type": "code",
      "source": [
        "numerical_df_impute = pd.DataFrame({\n",
        "    'pm10':temp_arr[:,0],\n",
        "    'pm25':temp_arr[:,1],\n",
        "    'so2':temp_arr[:,2],\n",
        "    'co':temp_arr[:,3],\n",
        "    'o3':temp_arr[:,4],\n",
        "    'no2':temp_arr[:,5]\n",
        "})\n",
        "numerical_df_impute"
      ],
      "metadata": {
        "colab": {
          "base_uri": "https://localhost:8080/",
          "height": 424
        },
        "id": "f90SyRlRuFeT",
        "outputId": "5cae19d6-0483-45b7-bd69-57c8fa71f698"
      },
      "execution_count": null,
      "outputs": [
        {
          "output_type": "execute_result",
          "data": {
            "text/plain": [
              "      pm10  pm25   so2    co    o3   no2\n",
              "0     38.0  53.0  29.0   6.0  31.0  13.0\n",
              "1     27.0  46.0  27.0   7.0  47.0   7.0\n",
              "2     44.0  58.0  25.0   7.0  40.0  13.0\n",
              "3     30.0  48.0  24.0   4.0  32.0   7.0\n",
              "4     38.0  53.0  24.0   6.0  31.0   9.0\n",
              "...    ...   ...   ...   ...   ...   ...\n",
              "1819  54.0  76.0  36.0  14.0  21.0  47.0\n",
              "1820  44.0  68.0  20.0  11.0  21.0  33.0\n",
              "1821  34.0  54.0  28.0   8.0  25.0  29.0\n",
              "1822  53.0  75.0  25.0  15.0  23.0  44.0\n",
              "1823  60.0  87.0  28.0  19.0  30.0  53.0\n",
              "\n",
              "[1824 rows x 6 columns]"
            ],
            "text/html": [
              "\n",
              "  <div id=\"df-a0b02ae7-dd94-4c37-bf04-c4435c6a352b\">\n",
              "    <div class=\"colab-df-container\">\n",
              "      <div>\n",
              "<style scoped>\n",
              "    .dataframe tbody tr th:only-of-type {\n",
              "        vertical-align: middle;\n",
              "    }\n",
              "\n",
              "    .dataframe tbody tr th {\n",
              "        vertical-align: top;\n",
              "    }\n",
              "\n",
              "    .dataframe thead th {\n",
              "        text-align: right;\n",
              "    }\n",
              "</style>\n",
              "<table border=\"1\" class=\"dataframe\">\n",
              "  <thead>\n",
              "    <tr style=\"text-align: right;\">\n",
              "      <th></th>\n",
              "      <th>pm10</th>\n",
              "      <th>pm25</th>\n",
              "      <th>so2</th>\n",
              "      <th>co</th>\n",
              "      <th>o3</th>\n",
              "      <th>no2</th>\n",
              "    </tr>\n",
              "  </thead>\n",
              "  <tbody>\n",
              "    <tr>\n",
              "      <th>0</th>\n",
              "      <td>38.0</td>\n",
              "      <td>53.0</td>\n",
              "      <td>29.0</td>\n",
              "      <td>6.0</td>\n",
              "      <td>31.0</td>\n",
              "      <td>13.0</td>\n",
              "    </tr>\n",
              "    <tr>\n",
              "      <th>1</th>\n",
              "      <td>27.0</td>\n",
              "      <td>46.0</td>\n",
              "      <td>27.0</td>\n",
              "      <td>7.0</td>\n",
              "      <td>47.0</td>\n",
              "      <td>7.0</td>\n",
              "    </tr>\n",
              "    <tr>\n",
              "      <th>2</th>\n",
              "      <td>44.0</td>\n",
              "      <td>58.0</td>\n",
              "      <td>25.0</td>\n",
              "      <td>7.0</td>\n",
              "      <td>40.0</td>\n",
              "      <td>13.0</td>\n",
              "    </tr>\n",
              "    <tr>\n",
              "      <th>3</th>\n",
              "      <td>30.0</td>\n",
              "      <td>48.0</td>\n",
              "      <td>24.0</td>\n",
              "      <td>4.0</td>\n",
              "      <td>32.0</td>\n",
              "      <td>7.0</td>\n",
              "    </tr>\n",
              "    <tr>\n",
              "      <th>4</th>\n",
              "      <td>38.0</td>\n",
              "      <td>53.0</td>\n",
              "      <td>24.0</td>\n",
              "      <td>6.0</td>\n",
              "      <td>31.0</td>\n",
              "      <td>9.0</td>\n",
              "    </tr>\n",
              "    <tr>\n",
              "      <th>...</th>\n",
              "      <td>...</td>\n",
              "      <td>...</td>\n",
              "      <td>...</td>\n",
              "      <td>...</td>\n",
              "      <td>...</td>\n",
              "      <td>...</td>\n",
              "    </tr>\n",
              "    <tr>\n",
              "      <th>1819</th>\n",
              "      <td>54.0</td>\n",
              "      <td>76.0</td>\n",
              "      <td>36.0</td>\n",
              "      <td>14.0</td>\n",
              "      <td>21.0</td>\n",
              "      <td>47.0</td>\n",
              "    </tr>\n",
              "    <tr>\n",
              "      <th>1820</th>\n",
              "      <td>44.0</td>\n",
              "      <td>68.0</td>\n",
              "      <td>20.0</td>\n",
              "      <td>11.0</td>\n",
              "      <td>21.0</td>\n",
              "      <td>33.0</td>\n",
              "    </tr>\n",
              "    <tr>\n",
              "      <th>1821</th>\n",
              "      <td>34.0</td>\n",
              "      <td>54.0</td>\n",
              "      <td>28.0</td>\n",
              "      <td>8.0</td>\n",
              "      <td>25.0</td>\n",
              "      <td>29.0</td>\n",
              "    </tr>\n",
              "    <tr>\n",
              "      <th>1822</th>\n",
              "      <td>53.0</td>\n",
              "      <td>75.0</td>\n",
              "      <td>25.0</td>\n",
              "      <td>15.0</td>\n",
              "      <td>23.0</td>\n",
              "      <td>44.0</td>\n",
              "    </tr>\n",
              "    <tr>\n",
              "      <th>1823</th>\n",
              "      <td>60.0</td>\n",
              "      <td>87.0</td>\n",
              "      <td>28.0</td>\n",
              "      <td>19.0</td>\n",
              "      <td>30.0</td>\n",
              "      <td>53.0</td>\n",
              "    </tr>\n",
              "  </tbody>\n",
              "</table>\n",
              "<p>1824 rows × 6 columns</p>\n",
              "</div>\n",
              "      <button class=\"colab-df-convert\" onclick=\"convertToInteractive('df-a0b02ae7-dd94-4c37-bf04-c4435c6a352b')\"\n",
              "              title=\"Convert this dataframe to an interactive table.\"\n",
              "              style=\"display:none;\">\n",
              "        \n",
              "  <svg xmlns=\"http://www.w3.org/2000/svg\" height=\"24px\"viewBox=\"0 0 24 24\"\n",
              "       width=\"24px\">\n",
              "    <path d=\"M0 0h24v24H0V0z\" fill=\"none\"/>\n",
              "    <path d=\"M18.56 5.44l.94 2.06.94-2.06 2.06-.94-2.06-.94-.94-2.06-.94 2.06-2.06.94zm-11 1L8.5 8.5l.94-2.06 2.06-.94-2.06-.94L8.5 2.5l-.94 2.06-2.06.94zm10 10l.94 2.06.94-2.06 2.06-.94-2.06-.94-.94-2.06-.94 2.06-2.06.94z\"/><path d=\"M17.41 7.96l-1.37-1.37c-.4-.4-.92-.59-1.43-.59-.52 0-1.04.2-1.43.59L10.3 9.45l-7.72 7.72c-.78.78-.78 2.05 0 2.83L4 21.41c.39.39.9.59 1.41.59.51 0 1.02-.2 1.41-.59l7.78-7.78 2.81-2.81c.8-.78.8-2.07 0-2.86zM5.41 20L4 18.59l7.72-7.72 1.47 1.35L5.41 20z\"/>\n",
              "  </svg>\n",
              "      </button>\n",
              "      \n",
              "  <style>\n",
              "    .colab-df-container {\n",
              "      display:flex;\n",
              "      flex-wrap:wrap;\n",
              "      gap: 12px;\n",
              "    }\n",
              "\n",
              "    .colab-df-convert {\n",
              "      background-color: #E8F0FE;\n",
              "      border: none;\n",
              "      border-radius: 50%;\n",
              "      cursor: pointer;\n",
              "      display: none;\n",
              "      fill: #1967D2;\n",
              "      height: 32px;\n",
              "      padding: 0 0 0 0;\n",
              "      width: 32px;\n",
              "    }\n",
              "\n",
              "    .colab-df-convert:hover {\n",
              "      background-color: #E2EBFA;\n",
              "      box-shadow: 0px 1px 2px rgba(60, 64, 67, 0.3), 0px 1px 3px 1px rgba(60, 64, 67, 0.15);\n",
              "      fill: #174EA6;\n",
              "    }\n",
              "\n",
              "    [theme=dark] .colab-df-convert {\n",
              "      background-color: #3B4455;\n",
              "      fill: #D2E3FC;\n",
              "    }\n",
              "\n",
              "    [theme=dark] .colab-df-convert:hover {\n",
              "      background-color: #434B5C;\n",
              "      box-shadow: 0px 1px 3px 1px rgba(0, 0, 0, 0.15);\n",
              "      filter: drop-shadow(0px 1px 2px rgba(0, 0, 0, 0.3));\n",
              "      fill: #FFFFFF;\n",
              "    }\n",
              "  </style>\n",
              "\n",
              "      <script>\n",
              "        const buttonEl =\n",
              "          document.querySelector('#df-a0b02ae7-dd94-4c37-bf04-c4435c6a352b button.colab-df-convert');\n",
              "        buttonEl.style.display =\n",
              "          google.colab.kernel.accessAllowed ? 'block' : 'none';\n",
              "\n",
              "        async function convertToInteractive(key) {\n",
              "          const element = document.querySelector('#df-a0b02ae7-dd94-4c37-bf04-c4435c6a352b');\n",
              "          const dataTable =\n",
              "            await google.colab.kernel.invokeFunction('convertToInteractive',\n",
              "                                                     [key], {});\n",
              "          if (!dataTable) return;\n",
              "\n",
              "          const docLinkHtml = 'Like what you see? Visit the ' +\n",
              "            '<a target=\"_blank\" href=https://colab.research.google.com/notebooks/data_table.ipynb>data table notebook</a>'\n",
              "            + ' to learn more about interactive tables.';\n",
              "          element.innerHTML = '';\n",
              "          dataTable['output_type'] = 'display_data';\n",
              "          await google.colab.output.renderOutput(dataTable, element);\n",
              "          const docLink = document.createElement('div');\n",
              "          docLink.innerHTML = docLinkHtml;\n",
              "          element.appendChild(docLink);\n",
              "        }\n",
              "      </script>\n",
              "    </div>\n",
              "  </div>\n",
              "  "
            ]
          },
          "metadata": {},
          "execution_count": 20
        }
      ]
    },
    {
      "cell_type": "code",
      "source": [
        "df.drop(['pm10','pm25','so2','co','o3','no2'],axis=1, inplace=True)\n",
        "\n",
        "data = pd.merge(df, numerical_df_impute, left_index=True, right_index=True)"
      ],
      "metadata": {
        "id": "uqxiMLbMwm_N"
      },
      "execution_count": null,
      "outputs": []
    },
    {
      "cell_type": "code",
      "source": [
        "data"
      ],
      "metadata": {
        "colab": {
          "base_uri": "https://localhost:8080/",
          "height": 424
        },
        "id": "Tt7NuQskzXJv",
        "outputId": "3e4b8914-579d-4dc8-e9cf-13b1da86f992"
      },
      "execution_count": null,
      "outputs": [
        {
          "output_type": "execute_result",
          "data": {
            "text/plain": [
              "        tanggal                           stasiun   max critical categori  \\\n",
              "0    2021-01-01                DKI1 (Bunderan HI)  53.0     PM25   SEDANG   \n",
              "1    2021-01-02                DKI1 (Bunderan HI)  47.0       O3     BAIK   \n",
              "2    2021-01-03                DKI1 (Bunderan HI)  58.0     PM25   SEDANG   \n",
              "3    2021-01-04                DKI1 (Bunderan HI)  48.0     PM25     BAIK   \n",
              "4    2021-01-05                DKI1 (Bunderan HI)  53.0     PM25   SEDANG   \n",
              "...         ...                               ...   ...      ...      ...   \n",
              "1819 2021-12-27  DKI5 (Kebon Jeruk) Jakarta Barat  76.0     PM25   SEDANG   \n",
              "1820 2021-12-28  DKI5 (Kebon Jeruk) Jakarta Barat  68.0     PM25   SEDANG   \n",
              "1821 2021-12-29  DKI5 (Kebon Jeruk) Jakarta Barat  54.0     PM25   SEDANG   \n",
              "1822 2021-12-30  DKI5 (Kebon Jeruk) Jakarta Barat  75.0     PM25   SEDANG   \n",
              "1823 2021-12-31  DKI5 (Kebon Jeruk) Jakarta Barat  87.0     PM25   SEDANG   \n",
              "\n",
              "      pm10  pm25   so2    co    o3   no2  \n",
              "0     38.0  53.0  29.0   6.0  31.0  13.0  \n",
              "1     27.0  46.0  27.0   7.0  47.0   7.0  \n",
              "2     44.0  58.0  25.0   7.0  40.0  13.0  \n",
              "3     30.0  48.0  24.0   4.0  32.0   7.0  \n",
              "4     38.0  53.0  24.0   6.0  31.0   9.0  \n",
              "...    ...   ...   ...   ...   ...   ...  \n",
              "1819  54.0  76.0  36.0  14.0  21.0  47.0  \n",
              "1820  44.0  68.0  20.0  11.0  21.0  33.0  \n",
              "1821  34.0  54.0  28.0   8.0  25.0  29.0  \n",
              "1822  53.0  75.0  25.0  15.0  23.0  44.0  \n",
              "1823  60.0  87.0  28.0  19.0  30.0  53.0  \n",
              "\n",
              "[1824 rows x 11 columns]"
            ],
            "text/html": [
              "\n",
              "  <div id=\"df-6b415342-8b62-49f7-aa93-c3da35837ca8\">\n",
              "    <div class=\"colab-df-container\">\n",
              "      <div>\n",
              "<style scoped>\n",
              "    .dataframe tbody tr th:only-of-type {\n",
              "        vertical-align: middle;\n",
              "    }\n",
              "\n",
              "    .dataframe tbody tr th {\n",
              "        vertical-align: top;\n",
              "    }\n",
              "\n",
              "    .dataframe thead th {\n",
              "        text-align: right;\n",
              "    }\n",
              "</style>\n",
              "<table border=\"1\" class=\"dataframe\">\n",
              "  <thead>\n",
              "    <tr style=\"text-align: right;\">\n",
              "      <th></th>\n",
              "      <th>tanggal</th>\n",
              "      <th>stasiun</th>\n",
              "      <th>max</th>\n",
              "      <th>critical</th>\n",
              "      <th>categori</th>\n",
              "      <th>pm10</th>\n",
              "      <th>pm25</th>\n",
              "      <th>so2</th>\n",
              "      <th>co</th>\n",
              "      <th>o3</th>\n",
              "      <th>no2</th>\n",
              "    </tr>\n",
              "  </thead>\n",
              "  <tbody>\n",
              "    <tr>\n",
              "      <th>0</th>\n",
              "      <td>2021-01-01</td>\n",
              "      <td>DKI1 (Bunderan HI)</td>\n",
              "      <td>53.0</td>\n",
              "      <td>PM25</td>\n",
              "      <td>SEDANG</td>\n",
              "      <td>38.0</td>\n",
              "      <td>53.0</td>\n",
              "      <td>29.0</td>\n",
              "      <td>6.0</td>\n",
              "      <td>31.0</td>\n",
              "      <td>13.0</td>\n",
              "    </tr>\n",
              "    <tr>\n",
              "      <th>1</th>\n",
              "      <td>2021-01-02</td>\n",
              "      <td>DKI1 (Bunderan HI)</td>\n",
              "      <td>47.0</td>\n",
              "      <td>O3</td>\n",
              "      <td>BAIK</td>\n",
              "      <td>27.0</td>\n",
              "      <td>46.0</td>\n",
              "      <td>27.0</td>\n",
              "      <td>7.0</td>\n",
              "      <td>47.0</td>\n",
              "      <td>7.0</td>\n",
              "    </tr>\n",
              "    <tr>\n",
              "      <th>2</th>\n",
              "      <td>2021-01-03</td>\n",
              "      <td>DKI1 (Bunderan HI)</td>\n",
              "      <td>58.0</td>\n",
              "      <td>PM25</td>\n",
              "      <td>SEDANG</td>\n",
              "      <td>44.0</td>\n",
              "      <td>58.0</td>\n",
              "      <td>25.0</td>\n",
              "      <td>7.0</td>\n",
              "      <td>40.0</td>\n",
              "      <td>13.0</td>\n",
              "    </tr>\n",
              "    <tr>\n",
              "      <th>3</th>\n",
              "      <td>2021-01-04</td>\n",
              "      <td>DKI1 (Bunderan HI)</td>\n",
              "      <td>48.0</td>\n",
              "      <td>PM25</td>\n",
              "      <td>BAIK</td>\n",
              "      <td>30.0</td>\n",
              "      <td>48.0</td>\n",
              "      <td>24.0</td>\n",
              "      <td>4.0</td>\n",
              "      <td>32.0</td>\n",
              "      <td>7.0</td>\n",
              "    </tr>\n",
              "    <tr>\n",
              "      <th>4</th>\n",
              "      <td>2021-01-05</td>\n",
              "      <td>DKI1 (Bunderan HI)</td>\n",
              "      <td>53.0</td>\n",
              "      <td>PM25</td>\n",
              "      <td>SEDANG</td>\n",
              "      <td>38.0</td>\n",
              "      <td>53.0</td>\n",
              "      <td>24.0</td>\n",
              "      <td>6.0</td>\n",
              "      <td>31.0</td>\n",
              "      <td>9.0</td>\n",
              "    </tr>\n",
              "    <tr>\n",
              "      <th>...</th>\n",
              "      <td>...</td>\n",
              "      <td>...</td>\n",
              "      <td>...</td>\n",
              "      <td>...</td>\n",
              "      <td>...</td>\n",
              "      <td>...</td>\n",
              "      <td>...</td>\n",
              "      <td>...</td>\n",
              "      <td>...</td>\n",
              "      <td>...</td>\n",
              "      <td>...</td>\n",
              "    </tr>\n",
              "    <tr>\n",
              "      <th>1819</th>\n",
              "      <td>2021-12-27</td>\n",
              "      <td>DKI5 (Kebon Jeruk) Jakarta Barat</td>\n",
              "      <td>76.0</td>\n",
              "      <td>PM25</td>\n",
              "      <td>SEDANG</td>\n",
              "      <td>54.0</td>\n",
              "      <td>76.0</td>\n",
              "      <td>36.0</td>\n",
              "      <td>14.0</td>\n",
              "      <td>21.0</td>\n",
              "      <td>47.0</td>\n",
              "    </tr>\n",
              "    <tr>\n",
              "      <th>1820</th>\n",
              "      <td>2021-12-28</td>\n",
              "      <td>DKI5 (Kebon Jeruk) Jakarta Barat</td>\n",
              "      <td>68.0</td>\n",
              "      <td>PM25</td>\n",
              "      <td>SEDANG</td>\n",
              "      <td>44.0</td>\n",
              "      <td>68.0</td>\n",
              "      <td>20.0</td>\n",
              "      <td>11.0</td>\n",
              "      <td>21.0</td>\n",
              "      <td>33.0</td>\n",
              "    </tr>\n",
              "    <tr>\n",
              "      <th>1821</th>\n",
              "      <td>2021-12-29</td>\n",
              "      <td>DKI5 (Kebon Jeruk) Jakarta Barat</td>\n",
              "      <td>54.0</td>\n",
              "      <td>PM25</td>\n",
              "      <td>SEDANG</td>\n",
              "      <td>34.0</td>\n",
              "      <td>54.0</td>\n",
              "      <td>28.0</td>\n",
              "      <td>8.0</td>\n",
              "      <td>25.0</td>\n",
              "      <td>29.0</td>\n",
              "    </tr>\n",
              "    <tr>\n",
              "      <th>1822</th>\n",
              "      <td>2021-12-30</td>\n",
              "      <td>DKI5 (Kebon Jeruk) Jakarta Barat</td>\n",
              "      <td>75.0</td>\n",
              "      <td>PM25</td>\n",
              "      <td>SEDANG</td>\n",
              "      <td>53.0</td>\n",
              "      <td>75.0</td>\n",
              "      <td>25.0</td>\n",
              "      <td>15.0</td>\n",
              "      <td>23.0</td>\n",
              "      <td>44.0</td>\n",
              "    </tr>\n",
              "    <tr>\n",
              "      <th>1823</th>\n",
              "      <td>2021-12-31</td>\n",
              "      <td>DKI5 (Kebon Jeruk) Jakarta Barat</td>\n",
              "      <td>87.0</td>\n",
              "      <td>PM25</td>\n",
              "      <td>SEDANG</td>\n",
              "      <td>60.0</td>\n",
              "      <td>87.0</td>\n",
              "      <td>28.0</td>\n",
              "      <td>19.0</td>\n",
              "      <td>30.0</td>\n",
              "      <td>53.0</td>\n",
              "    </tr>\n",
              "  </tbody>\n",
              "</table>\n",
              "<p>1824 rows × 11 columns</p>\n",
              "</div>\n",
              "      <button class=\"colab-df-convert\" onclick=\"convertToInteractive('df-6b415342-8b62-49f7-aa93-c3da35837ca8')\"\n",
              "              title=\"Convert this dataframe to an interactive table.\"\n",
              "              style=\"display:none;\">\n",
              "        \n",
              "  <svg xmlns=\"http://www.w3.org/2000/svg\" height=\"24px\"viewBox=\"0 0 24 24\"\n",
              "       width=\"24px\">\n",
              "    <path d=\"M0 0h24v24H0V0z\" fill=\"none\"/>\n",
              "    <path d=\"M18.56 5.44l.94 2.06.94-2.06 2.06-.94-2.06-.94-.94-2.06-.94 2.06-2.06.94zm-11 1L8.5 8.5l.94-2.06 2.06-.94-2.06-.94L8.5 2.5l-.94 2.06-2.06.94zm10 10l.94 2.06.94-2.06 2.06-.94-2.06-.94-.94-2.06-.94 2.06-2.06.94z\"/><path d=\"M17.41 7.96l-1.37-1.37c-.4-.4-.92-.59-1.43-.59-.52 0-1.04.2-1.43.59L10.3 9.45l-7.72 7.72c-.78.78-.78 2.05 0 2.83L4 21.41c.39.39.9.59 1.41.59.51 0 1.02-.2 1.41-.59l7.78-7.78 2.81-2.81c.8-.78.8-2.07 0-2.86zM5.41 20L4 18.59l7.72-7.72 1.47 1.35L5.41 20z\"/>\n",
              "  </svg>\n",
              "      </button>\n",
              "      \n",
              "  <style>\n",
              "    .colab-df-container {\n",
              "      display:flex;\n",
              "      flex-wrap:wrap;\n",
              "      gap: 12px;\n",
              "    }\n",
              "\n",
              "    .colab-df-convert {\n",
              "      background-color: #E8F0FE;\n",
              "      border: none;\n",
              "      border-radius: 50%;\n",
              "      cursor: pointer;\n",
              "      display: none;\n",
              "      fill: #1967D2;\n",
              "      height: 32px;\n",
              "      padding: 0 0 0 0;\n",
              "      width: 32px;\n",
              "    }\n",
              "\n",
              "    .colab-df-convert:hover {\n",
              "      background-color: #E2EBFA;\n",
              "      box-shadow: 0px 1px 2px rgba(60, 64, 67, 0.3), 0px 1px 3px 1px rgba(60, 64, 67, 0.15);\n",
              "      fill: #174EA6;\n",
              "    }\n",
              "\n",
              "    [theme=dark] .colab-df-convert {\n",
              "      background-color: #3B4455;\n",
              "      fill: #D2E3FC;\n",
              "    }\n",
              "\n",
              "    [theme=dark] .colab-df-convert:hover {\n",
              "      background-color: #434B5C;\n",
              "      box-shadow: 0px 1px 3px 1px rgba(0, 0, 0, 0.15);\n",
              "      filter: drop-shadow(0px 1px 2px rgba(0, 0, 0, 0.3));\n",
              "      fill: #FFFFFF;\n",
              "    }\n",
              "  </style>\n",
              "\n",
              "      <script>\n",
              "        const buttonEl =\n",
              "          document.querySelector('#df-6b415342-8b62-49f7-aa93-c3da35837ca8 button.colab-df-convert');\n",
              "        buttonEl.style.display =\n",
              "          google.colab.kernel.accessAllowed ? 'block' : 'none';\n",
              "\n",
              "        async function convertToInteractive(key) {\n",
              "          const element = document.querySelector('#df-6b415342-8b62-49f7-aa93-c3da35837ca8');\n",
              "          const dataTable =\n",
              "            await google.colab.kernel.invokeFunction('convertToInteractive',\n",
              "                                                     [key], {});\n",
              "          if (!dataTable) return;\n",
              "\n",
              "          const docLinkHtml = 'Like what you see? Visit the ' +\n",
              "            '<a target=\"_blank\" href=https://colab.research.google.com/notebooks/data_table.ipynb>data table notebook</a>'\n",
              "            + ' to learn more about interactive tables.';\n",
              "          element.innerHTML = '';\n",
              "          dataTable['output_type'] = 'display_data';\n",
              "          await google.colab.output.renderOutput(dataTable, element);\n",
              "          const docLink = document.createElement('div');\n",
              "          docLink.innerHTML = docLinkHtml;\n",
              "          element.appendChild(docLink);\n",
              "        }\n",
              "      </script>\n",
              "    </div>\n",
              "  </div>\n",
              "  "
            ]
          },
          "metadata": {},
          "execution_count": 22
        }
      ]
    },
    {
      "cell_type": "markdown",
      "source": [
        "- Filling Missing Value with Mode in \"critical\" variable"
      ],
      "metadata": {
        "id": "s4NNp-HX3EwR"
      }
    },
    {
      "cell_type": "code",
      "source": [
        "data['critical'].fillna(data['critical'].mode()[0], inplace=True)"
      ],
      "metadata": {
        "id": "O1oh9hu029kC"
      },
      "execution_count": null,
      "outputs": []
    },
    {
      "cell_type": "markdown",
      "source": [
        "### Remove TIDAK ADA DATA in target variable"
      ],
      "metadata": {
        "id": "gmqWBCdKbXfC"
      }
    },
    {
      "cell_type": "code",
      "source": [
        "data = data[data['categori'] != 'TIDAK ADA DATA']\n",
        "data['categori'].value_counts()"
      ],
      "metadata": {
        "colab": {
          "base_uri": "https://localhost:8080/"
        },
        "id": "mE1qpgSFbQ9e",
        "outputId": "a67666e9-da29-4b6a-b316-39790cebf9db"
      },
      "execution_count": null,
      "outputs": [
        {
          "output_type": "execute_result",
          "data": {
            "text/plain": [
              "SEDANG         1349\n",
              "TIDAK SEHAT     272\n",
              "BAIK            187\n",
              "Name: categori, dtype: int64"
            ]
          },
          "metadata": {},
          "execution_count": 24
        }
      ]
    },
    {
      "cell_type": "markdown",
      "source": [
        "### Handling highly dominated Categorical Variables"
      ],
      "metadata": {
        "id": "xSIKCxzJ6L3N"
      }
    },
    {
      "cell_type": "markdown",
      "source": [
        "- Critical Variable"
      ],
      "metadata": {
        "id": "Jlo8p32F6Ut0"
      }
    },
    {
      "cell_type": "code",
      "source": [
        "sns.countplot('critical', data=data)\n",
        "plt.title('Critical distributions')\n",
        "plt.show()"
      ],
      "metadata": {
        "colab": {
          "base_uri": "https://localhost:8080/",
          "height": 295
        },
        "id": "xWrH3DWu6PrM",
        "outputId": "796fbf00-31cf-460b-c324-b3fb7303804c"
      },
      "execution_count": null,
      "outputs": [
        {
          "output_type": "display_data",
          "data": {
            "text/plain": [
              "<Figure size 432x288 with 1 Axes>"
            ],
            "image/png": "[encoded data removed]"
          },
          "metadata": {
            "needs_background": "light"
          }
        }
      ]
    },
    {
      "cell_type": "markdown",
      "source": [
        "> This variable has a highly dominated category (one category dominate the other), and we should consider remove it"
      ],
      "metadata": {
        "id": "5Wrv82gX6dhG"
      }
    },
    {
      "cell_type": "code",
      "source": [
        "for col in data.select_dtypes(include='object').columns.tolist():\n",
        "    print(data[col].value_counts(normalize=True)*100)\n",
        "    print('\\n')"
      ],
      "metadata": {
        "colab": {
          "base_uri": "https://localhost:8080/"
        },
        "id": "FhPDymCs6kcx",
        "outputId": "96382729-abbc-45c6-a6b1-1a929191e7b5"
      },
      "execution_count": null,
      "outputs": [
        {
          "output_type": "stream",
          "name": "stdout",
          "text": [
            "DKI1 (Bunderan HI)                  20.132743\n",
            "DKI5 (Kebon Jeruk) Jakarta Barat    20.132743\n",
            "DKI3 (Jagakarsa)                    20.077434\n",
            "DKI2 (Kelapa Gading)                20.022124\n",
            "DKI4 (Lubang Buaya)                 19.634956\n",
            "Name: stasiun, dtype: float64\n",
            "\n",
            "\n",
            "PM25    90.154867\n",
            "PM10     3.484513\n",
            "O3       3.097345\n",
            "CO       1.880531\n",
            "SO2      1.382743\n",
            "Name: critical, dtype: float64\n",
            "\n",
            "\n",
            "SEDANG         74.612832\n",
            "TIDAK SEHAT    15.044248\n",
            "BAIK           10.342920\n",
            "Name: categori, dtype: float64\n",
            "\n",
            "\n"
          ]
        }
      ]
    },
    {
      "cell_type": "code",
      "source": [
        "data.drop('critical', axis=1, inplace=True)"
      ],
      "metadata": {
        "id": "1VWGfqh67ZEv"
      },
      "execution_count": null,
      "outputs": []
    },
    {
      "cell_type": "markdown",
      "source": [
        "### Transforming Categorical Variables\n",
        "- In this section, we will handle `tanggal` to categorize it each quarter (each 4 months)."
      ],
      "metadata": {
        "id": "O2iYA0gIchIU"
      }
    },
    {
      "cell_type": "code",
      "source": [
        "data['tanggal'] = data['tanggal'].dt.strftime('%B')"
      ],
      "metadata": {
        "id": "tkRPcAOtcwkH"
      },
      "execution_count": null,
      "outputs": []
    },
    {
      "cell_type": "code",
      "source": [
        "data['tanggal'].unique()"
      ],
      "metadata": {
        "colab": {
          "base_uri": "https://localhost:8080/"
        },
        "id": "UUHobtHEegxe",
        "outputId": "01ddff3a-c1da-4161-9b21-c99f090e16f3"
      },
      "execution_count": null,
      "outputs": [
        {
          "output_type": "execute_result",
          "data": {
            "text/plain": [
              "array(['January', 'February', 'March', 'April', 'May', 'June', 'July',\n",
              "       'August', 'September', 'October', 'November', 'December'],\n",
              "      dtype=object)"
            ]
          },
          "metadata": {},
          "execution_count": 29
        }
      ]
    },
    {
      "cell_type": "code",
      "source": [
        "data['tanggal'] = data['tanggal'].map({\n",
        "    'January':'QUARTER 1',\n",
        "    'February':'QUARTER 1',\n",
        "    'March':'QUARTER 1',\n",
        "    'April':'QUARTER 1',\n",
        "    'May':'QUARTER 2',\n",
        "    'June':'QUARTER 2',\n",
        "    'July':'QUARTER 2',\n",
        "    'August':'QUARTER 2',\n",
        "    'September':'QUARTER 3',\n",
        "    'October':'QUARTER 3',\n",
        "    'November':'QUARTER 3',\n",
        "    'December':'QUARTER 3'\n",
        "})\n",
        "data['tanggal'].value_counts()"
      ],
      "metadata": {
        "colab": {
          "base_uri": "https://localhost:8080/"
        },
        "id": "A1OJdQXZeTiF",
        "outputId": "af6f3eb6-8fb2-44ac-dec5-d1ba5052c247"
      },
      "execution_count": null,
      "outputs": [
        {
          "output_type": "execute_result",
          "data": {
            "text/plain": [
              "QUARTER 2    614\n",
              "QUARTER 3    601\n",
              "QUARTER 1    593\n",
              "Name: tanggal, dtype: int64"
            ]
          },
          "metadata": {},
          "execution_count": 30
        }
      ]
    },
    {
      "cell_type": "markdown",
      "source": [
        "### Splitting Dataset\n",
        "- Train Data (80% (Train Data 80%, Valid Data 20%)) and Unseen Data 20%"
      ],
      "metadata": {
        "id": "Ehr6VVE4fjSr"
      }
    },
    {
      "cell_type": "code",
      "source": [
        "X = data.drop('categori',axis=1)\n",
        "y = data['categori']\n",
        "\n",
        "X_train, X_test, y_train, y_test = train_test_split(X, y, test_size=0.2, stratify=y, random_state=42)\n",
        "\n",
        "X_train = X_train.reset_index(drop=True)\n",
        "X_test = X_test.reset_index(drop=True)\n",
        "y_train = y_train.reset_index(drop=True)\n",
        "y_test = y_test.reset_index(drop=True)\n",
        "\n",
        "print(f'X_train shape {X_train.shape}')\n",
        "print(f'X_test shape {X_test.shape}')\n",
        "print(f'y_train shape {y_train.shape}')\n",
        "print(f'y_test shape {y_test.shape}')"
      ],
      "metadata": {
        "colab": {
          "base_uri": "https://localhost:8080/"
        },
        "id": "JXKM4-vvfrcz",
        "outputId": "4d962ec4-a171-40d1-f53e-95f45b85cee2"
      },
      "execution_count": null,
      "outputs": [
        {
          "output_type": "stream",
          "name": "stdout",
          "text": [
            "X_train shape (1446, 9)\n",
            "X_test shape (362, 9)\n",
            "y_train shape (1446,)\n",
            "y_test shape (362,)\n"
          ]
        }
      ]
    },
    {
      "cell_type": "markdown",
      "source": [
        "### Feature Scaling"
      ],
      "metadata": {
        "id": "PklcX2D3h1Sy"
      }
    },
    {
      "cell_type": "code",
      "source": [
        "categorical_cols = [col for col in X_train.select_dtypes(include='object').columns.tolist()]\n",
        "numerical_cols = [col for col in X_train.columns.tolist() if col not in categorical_cols]\n",
        "numerical_cols"
      ],
      "metadata": {
        "colab": {
          "base_uri": "https://localhost:8080/"
        },
        "id": "_WZhgFjCh4jp",
        "outputId": "aa17f11f-6bdc-49ec-e9b1-c3296210a165"
      },
      "execution_count": null,
      "outputs": [
        {
          "output_type": "execute_result",
          "data": {
            "text/plain": [
              "['max', 'pm10', 'pm25', 'so2', 'co', 'o3', 'no2']"
            ]
          },
          "metadata": {},
          "execution_count": 32
        }
      ]
    },
    {
      "cell_type": "code",
      "source": [
        "sc = MinMaxScaler()\n",
        "X_train_scaled = pd.DataFrame(sc.fit_transform(X_train[numerical_cols]), columns = numerical_cols)\n",
        "X_test_scaled = pd.DataFrame(sc.transform(X_test[numerical_cols]), columns = numerical_cols)"
      ],
      "metadata": {
        "id": "v4Ug8w1Zizc6"
      },
      "execution_count": null,
      "outputs": []
    },
    {
      "cell_type": "code",
      "source": [
        "X_train = pd.concat([X_train_scaled, X_train[categorical_cols]], axis=1)\n",
        "X_test = pd.concat([X_test_scaled, X_test[categorical_cols]], axis=1)"
      ],
      "metadata": {
        "id": "VEJ9BWkXkHuN"
      },
      "execution_count": null,
      "outputs": []
    },
    {
      "cell_type": "markdown",
      "source": [
        "#### ONE HOT ENCODING"
      ],
      "metadata": {
        "id": "ROv20kgle3X9"
      }
    },
    {
      "cell_type": "code",
      "source": [
        "X_train.select_dtypes(include='object').nunique()"
      ],
      "metadata": {
        "colab": {
          "base_uri": "https://localhost:8080/"
        },
        "id": "pJLIqdiye5zW",
        "outputId": "789be55d-4c1f-4754-862b-42f5544a6fa9"
      },
      "execution_count": null,
      "outputs": [
        {
          "output_type": "execute_result",
          "data": {
            "text/plain": [
              "tanggal    3\n",
              "stasiun    5\n",
              "dtype: int64"
            ]
          },
          "metadata": {},
          "execution_count": 35
        }
      ]
    },
    {
      "cell_type": "code",
      "source": [
        "OH_list = ['stasiun', 'tanggal']\n",
        "\n",
        "# One Hot Encoding\n",
        "\n",
        "OH_encoder = OneHotEncoder(handle_unknown='ignore', sparse=False, drop='first')\n",
        "OH_cols_train = pd.DataFrame(OH_encoder.fit_transform(X_train[OH_list]))\n",
        "OH_cols_test = pd.DataFrame(OH_encoder.transform(X_test[OH_list]))\n",
        "\n",
        "OH_cols_train.index = X_train.index\n",
        "OH_cols_test.index = X_test.index\n",
        "\n",
        "OH_cols_train.columns = OH_encoder.get_feature_names_out()\n",
        "OH_cols_test.columns = OH_encoder.get_feature_names_out()\n",
        "\n",
        "num_X_train = X_train.drop(OH_list, axis=1)\n",
        "num_X_test = X_test.drop(OH_list, axis=1)\n",
        "\n",
        "OH_X_train = pd.concat([num_X_train, OH_cols_train], axis=1)\n",
        "OH_X_test = pd.concat([num_X_test, OH_cols_test], axis=1)"
      ],
      "metadata": {
        "id": "2FCn08d1kkVJ"
      },
      "execution_count": null,
      "outputs": []
    },
    {
      "cell_type": "markdown",
      "source": [
        "### Transform Target Variable"
      ],
      "metadata": {
        "id": "UCwn6nRSmiMV"
      }
    },
    {
      "cell_type": "code",
      "source": [
        "y_train = y_train.map({\n",
        "    'TIDAK SEHAT':0,\n",
        "    'SEDANG':1,\n",
        "    'BAIK':1\n",
        "})\n",
        "y_test = y_test.map({\n",
        "    'TIDAK SEHAT':0,\n",
        "    'SEDANG':1,\n",
        "    'BAIK':1\n",
        "})"
      ],
      "metadata": {
        "id": "M4HRwRtcmlJp"
      },
      "execution_count": null,
      "outputs": []
    },
    {
      "cell_type": "code",
      "source": [
        "sm = SMOTE(random_state=42)\n",
        "OH_X_trains, OH_y_trains = sm.fit_resample(OH_X_train, y_train)\n",
        "OH_X_tests, OH_y_tests = sm.fit_resample(OH_X_test, y_test)"
      ],
      "metadata": {
        "id": "QNItx1eu2jmQ"
      },
      "execution_count": null,
      "outputs": []
    },
    {
      "cell_type": "code",
      "source": [
        "train = pd.concat([OH_X_trains, OH_y_trains], axis=1)\n",
        "test = pd.concat([OH_X_tests, OH_y_tests], axis=1)"
      ],
      "metadata": {
        "id": "m5-s-pwTluVE"
      },
      "execution_count": null,
      "outputs": []
    },
    {
      "cell_type": "markdown",
      "source": [
        "### Correlation"
      ],
      "metadata": {
        "id": "m7S_ng4ElzG2"
      }
    },
    {
      "cell_type": "code",
      "source": [
        "plt.figure(figsize=(12, 8))\n",
        "sns.heatmap(data=train.corr(), annot=True)\n",
        "plt.title('Correlation Matrix')\n",
        "plt.show()"
      ],
      "metadata": {
        "colab": {
          "base_uri": "https://localhost:8080/",
          "height": 692
        },
        "id": "1IXyAL0zlyHO",
        "outputId": "b5af6083-4761-4c30-bbbe-ec4c98931b87"
      },
      "execution_count": null,
      "outputs": [
        {
          "output_type": "display_data",
          "data": {
            "text/plain": [
              "<Figure size 864x576 with 2 Axes>"
            ],
            "image/png": "[encoded data removed]"
          },
          "metadata": {
            "needs_background": "light"
          }
        }
      ]
    },
    {
      "cell_type": "markdown",
      "source": [
        "> From the correlation above, we may see some variables that highly correlated with each other, this problem called **Multicolinearity**. This could be a problem since there may be some variables that was affected from other variables. In order to drop this, we need to drop one variable in the highly correlated variables."
      ],
      "metadata": {
        "id": "3l_4vEOymEvy"
      }
    },
    {
      "cell_type": "code",
      "source": [
        "# Defining matrix score to positives (absolute score)\n",
        "correlation_matrix = data.corr().abs()\n",
        "\n",
        "# Setting so that correlation matrix shape changed\n",
        "temp_matrix = correlation_matrix.where(np.triu(np.ones(correlation_matrix.shape), k=1).astype(bool))\n",
        "\n",
        "# Dropping highly correlation score (> 0.6)\n",
        "var_drop = [column for column in temp_matrix.columns if any(temp_matrix[column] > 0.6)]\n",
        "var_drop"
      ],
      "metadata": {
        "colab": {
          "base_uri": "https://localhost:8080/"
        },
        "id": "jpUc_yiymN-x",
        "outputId": "eea5d227-f430-469a-a0cb-6bad9dd2ec86"
      },
      "execution_count": null,
      "outputs": [
        {
          "output_type": "execute_result",
          "data": {
            "text/plain": [
              "['pm10', 'pm25']"
            ]
          },
          "metadata": {},
          "execution_count": 41
        }
      ]
    },
    {
      "cell_type": "markdown",
      "source": [
        "#### Dropping highly correlated variables"
      ],
      "metadata": {
        "id": "mAJ6kHfNnjlE"
      }
    },
    {
      "cell_type": "code",
      "source": [
        "train.drop(var_drop,axis=1, inplace=True)\n",
        "test.drop(var_drop,axis=1, inplace=True)"
      ],
      "metadata": {
        "id": "J87FGhNBng3b"
      },
      "execution_count": null,
      "outputs": []
    },
    {
      "cell_type": "markdown",
      "source": [
        "## Modelling"
      ],
      "metadata": {
        "id": "E7DT9GxSn7FJ"
      }
    },
    {
      "cell_type": "markdown",
      "source": [
        "### Splitting Train Data"
      ],
      "metadata": {
        "id": "vaZn5rk8qHw0"
      }
    },
    {
      "cell_type": "code",
      "source": [
        "X = train.drop('categori', axis=1)\n",
        "y = train['categori']\n",
        "\n",
        "X_train, X_valid, y_train, y_valid = train_test_split(X,y, test_size=0.2, stratify=y, random_state=42)\n",
        "X_train = X_train.reset_index(drop=True)\n",
        "X_valid = X_valid.reset_index(drop=True)\n",
        "y_train = y_train.reset_index(drop=True)\n",
        "y_valid = y_valid.reset_index(drop=True)"
      ],
      "metadata": {
        "id": "jF7CBbgloBmz"
      },
      "execution_count": null,
      "outputs": []
    },
    {
      "cell_type": "markdown",
      "source": [
        "### Logistic Regression with Gradient Descent"
      ],
      "metadata": {
        "id": "JpmAz7sBBeUC"
      }
    },
    {
      "cell_type": "code",
      "source": [
        "class LogReg_GD:\n",
        "    def __init__(self, n_Var):\n",
        "        self.bias = 0\n",
        "        self.weight = np.random.randn(n_Var)\n",
        "    \n",
        "    def sigmoid_function(self, z):\n",
        "        return 1/(1+np.exp(-z))\n",
        "\n",
        "    def predict(self, weight, X, bias):\n",
        "        y_prediction = self.sigmoid_function(np.array(np.dot(X, weight) + bias))\n",
        "        return y_prediction\n",
        "\n",
        "    def cost_function(self, X, y, y_prediction):\n",
        "        m =  X.shape[0]\n",
        "        return (-1/m)*np.sum(y*np.log(y_prediction) + (1-y)*np.log(1-y_prediction))\n",
        "    \n",
        "    def derivative_weight(self, y_prediction, y, X, learning_rate):\n",
        "        dw = np.dot((y_prediction - y), X)\n",
        "        return self.weight - (learning_rate * dw)\n",
        "    \n",
        "    def derivative_bias(self, y_prediction, y, learning_rate):\n",
        "        db = np.sum(y_prediction - y)\n",
        "        return self.bias - (learning_rate * db)\n",
        "    \n",
        "    def gradient_descent(self, X, y, epochs, learning_rate):\n",
        "        loss = []\n",
        "\n",
        "        for _ in range(epochs):\n",
        "            y_prediction = self.predict(self.weight, X, self.bias)\n",
        "            self.weight = self.derivative_weight(y_prediction, y, X, learning_rate)\n",
        "            self.bias = self.derivative_bias(y_prediction, y, learning_rate)\n",
        "            loss.append(self.cost_function(X, y, y_prediction))\n",
        "        \n",
        "        return loss"
      ],
      "metadata": {
        "id": "llehyr2nBjyc"
      },
      "execution_count": null,
      "outputs": []
    },
    {
      "cell_type": "code",
      "source": [
        "lr_candidate = [0.01, 0.05, 0.1]\n",
        "loss_list = []\n",
        "\n",
        "for lr in lr_candidate:\n",
        "    model = LogReg_GD(X_train.shape[1])\n",
        "    epochs = 500\n",
        "    loss = model.gradient_descent(X_train, y_train, epochs, lr)\n",
        "    print(f'Learning Rate : {lr}')\n",
        "    print(f'Weight : {model.weight}')\n",
        "    print(f'Bias : {model.bias}')\n",
        "    loss_list.append([lr, loss])"
      ],
      "metadata": {
        "colab": {
          "base_uri": "https://localhost:8080/"
        },
        "id": "_d-ifyM4Bov8",
        "outputId": "2b63668b-f76a-4f8b-d3c4-1fa5dfdeadef"
      },
      "execution_count": null,
      "outputs": [
        {
          "output_type": "stream",
          "name": "stdout",
          "text": [
            "Learning Rate : 0.01\n",
            "Weight : [-49.44073823  -1.16772783  -1.00874265  -0.49848445   0.57040522\n",
            "   0.71571499   0.64132402  -0.13834606   0.40048261  -0.26912489\n",
            "   0.30561927]\n",
            "Bias : 25.071305238864905\n",
            "Learning Rate : 0.05\n",
            "Weight : [-191.88588879   -1.36266193   -2.47171172   -1.81312911    1.34556381\n",
            "    1.49882893    1.69104225    0.55543654    0.61089711    0.21606827\n",
            "    0.81383855]\n",
            "Bias : 98.1453295710864\n",
            "Learning Rate : 0.1\n",
            "Weight : [-3.80121655e+02 -2.75807679e+00 -4.60254668e+00 -4.70205354e+00\n",
            " -4.00981242e-01  2.44712602e+00  2.09911715e+00  5.49796841e-01\n",
            "  1.73790021e-01  5.71244249e-01  1.24527870e+00]\n",
            "Bias : 197.1450099256528\n"
          ]
        }
      ]
    },
    {
      "cell_type": "code",
      "source": [
        "plt.figure(figsize=(8, 6))\n",
        "epochs = 500\n",
        "for i in range(len(loss_list)):\n",
        "    plt.plot(np.arange(1, epochs), loss_list[i][1][1:], label=loss_list[i][0])\n",
        "\n",
        "plt.title('Epochs vs Loss')\n",
        "plt.xlabel('Epochs')\n",
        "plt.ylabel('Loss')\n",
        "plt.legend()\n",
        "plt.show()"
      ],
      "metadata": {
        "colab": {
          "base_uri": "https://localhost:8080/",
          "height": 404
        },
        "id": "nP2SdA08B6yF",
        "outputId": "c6b576d0-9811-474d-cceb-0ee9703cff59"
      },
      "execution_count": null,
      "outputs": [
        {
          "output_type": "display_data",
          "data": {
            "text/plain": [
              "<Figure size 576x432 with 1 Axes>"
            ],
            "image/png": "[encoded data removed]"
          },
          "metadata": {
            "needs_background": "light"
          }
        }
      ]
    },
    {
      "cell_type": "code",
      "source": [
        "model = LogReg_GD(X_train.shape[1])\n",
        "epochs = 500\n",
        "learning_rate = 0.1\n",
        "model.gradient_descent(X_train, y_train, epochs, learning_rate)\n",
        "print(f'Weight : {model.weight}')\n",
        "print(f'Bias : {model.bias}')"
      ],
      "metadata": {
        "colab": {
          "base_uri": "https://localhost:8080/"
        },
        "id": "_H4ZkdqMDqr2",
        "outputId": "fe033986-a554-47d8-8375-0b7e5aa22f14"
      },
      "execution_count": null,
      "outputs": [
        {
          "output_type": "stream",
          "name": "stdout",
          "text": [
            "Weight : [-3.79559531e+02 -2.75135120e+00 -4.62203060e+00 -5.45938894e+00\n",
            " -6.75232632e-01  2.55494397e+00  2.07383023e+00  5.07652987e-01\n",
            "  1.52186800e-01  5.24948829e-01  1.21758686e+00]\n",
            "Bias : 197.1085522290505\n"
          ]
        }
      ]
    },
    {
      "cell_type": "code",
      "source": [
        "def threshold(y):\n",
        "    return [1 if i >= 0.5 else 0 for i in y]\n",
        "y_prediction_probability = model.predict(model.weight, X_valid, model.bias)\n",
        "y_prediction_threshold = threshold(y_prediction_probability)"
      ],
      "metadata": {
        "id": "8uITc6CQD1n0"
      },
      "execution_count": null,
      "outputs": []
    },
    {
      "cell_type": "markdown",
      "source": [
        "### Prediction with Logistic Regression with Gradient Descent"
      ],
      "metadata": {
        "id": "HfvpebifGoL1"
      }
    },
    {
      "cell_type": "code",
      "source": [
        "cf = confusion_matrix(y_valid, y_prediction_threshold)\n",
        "ax = sns.heatmap(cf, annot=True, linewidth=0.1)\n",
        "\n",
        "ax.set_title('Confusion Matrix')\n",
        "ax.set_xlabel('Prediction Values')\n",
        "ax.set_ylabel('Actual Values')\n",
        "\n",
        "ax.xaxis.set_ticklabels(['False','True'])\n",
        "ax.yaxis.set_ticklabels(['False','True'])\n",
        "\n",
        "plt.show()"
      ],
      "metadata": {
        "colab": {
          "base_uri": "https://localhost:8080/",
          "height": 295
        },
        "id": "c4JWZ0xPEISW",
        "outputId": "ce15b49c-1952-4757-c13b-3f820be43705"
      },
      "execution_count": null,
      "outputs": [
        {
          "output_type": "display_data",
          "data": {
            "text/plain": [
              "<Figure size 432x288 with 2 Axes>"
            ],
            "image/png": "[encoded data removed]"
          },
          "metadata": {
            "needs_background": "light"
          }
        }
      ]
    },
    {
      "cell_type": "code",
      "source": [
        "TRUTH_VALUE = y_valid\n",
        "print(f'Accuracy Score: {accuracy_score(TRUTH_VALUE, y_prediction_threshold)}')\n",
        "print(f'Precision Score: {precision_score(TRUTH_VALUE, y_prediction_threshold)}')\n",
        "print(f'Recall Score: {recall_score(TRUTH_VALUE, y_prediction_threshold)}')\n",
        "print(f'F1 Score: {f1_score(TRUTH_VALUE, y_prediction_threshold)}')\n",
        "print(f'\\nClassification Score:\\n {classification_report(TRUTH_VALUE, y_prediction_threshold)}')"
      ],
      "metadata": {
        "colab": {
          "base_uri": "https://localhost:8080/"
        },
        "id": "tWfLxwtHEW_H",
        "outputId": "66ef1bef-1129-4a92-b71a-03b49be6bf72"
      },
      "execution_count": null,
      "outputs": [
        {
          "output_type": "stream",
          "name": "stdout",
          "text": [
            "Accuracy Score: 1.0\n",
            "Precision Score: 1.0\n",
            "Recall Score: 1.0\n",
            "F1 Score: 1.0\n",
            "\n",
            "Classification Score:\n",
            "               precision    recall  f1-score   support\n",
            "\n",
            "           0       1.00      1.00      1.00       246\n",
            "           1       1.00      1.00      1.00       246\n",
            "\n",
            "    accuracy                           1.00       492\n",
            "   macro avg       1.00      1.00      1.00       492\n",
            "weighted avg       1.00      1.00      1.00       492\n",
            "\n"
          ]
        }
      ]
    },
    {
      "cell_type": "markdown",
      "source": [
        "#### Cross Validation using K - Fold\n",
        "- In this section we will try to get the cross validation score from 5 folds on Logistic Regression - Gradient Descent."
      ],
      "metadata": {
        "id": "QanPyeCHXTla"
      }
    },
    {
      "cell_type": "code",
      "source": [
        "def cross_validation_split(dataset, folds=3):\n",
        "  dataset_split = list()\n",
        "  dataset_copy = list(dataset)\n",
        "  fold_size = int(len(dataset)/folds)\n",
        "  for i in range(folds):\n",
        "    fold = list()\n",
        "    while len(fold) < fold_size:\n",
        "      index = randrange(len(dataset_copy))\n",
        "      fold.append(dataset_copy.pop(index))\n",
        "    dataset_split.append(fold)\n",
        "  return dataset_split"
      ],
      "metadata": {
        "id": "PO2dEpyrXa03"
      },
      "execution_count": null,
      "outputs": []
    },
    {
      "cell_type": "code",
      "source": [
        "def threshold(y):\n",
        "  return [1 if i >= 0.5 else 0 for i in y]"
      ],
      "metadata": {
        "id": "x5lVszfbbbmf"
      },
      "execution_count": null,
      "outputs": []
    },
    {
      "cell_type": "code",
      "source": [
        "folds = cross_validation_split(np.array(train),5)\n",
        "list_acc = []\n",
        "list_prec = []\n",
        "list_f1 = []\n",
        "list_rec = []\n",
        "for i in range(len(folds)):\n",
        "  folded_valid = pd.DataFrame(folds[i], columns = train.columns.tolist())\n",
        "  idx = 0\n",
        "  folded_train = pd.DataFrame(columns = train.columns.tolist())\n",
        "  for j in range(len(folds)):\n",
        "    if j != i:\n",
        "      if idx == 0:\n",
        "        idx = 1\n",
        "        folded_train = pd.DataFrame(folds[j], columns = train.columns.tolist())\n",
        "        continue\n",
        "      folded_train = folded_train.append(pd.DataFrame(folds[j], columns = train.columns.tolist()))\n",
        "\n",
        "  model_fold = LogReg_GD(X_train.shape[1])\n",
        "  epochs = 500\n",
        "  learning_rate = 0.1\n",
        "  model_fold.gradient_descent(folded_train.drop('categori',axis=1), folded_train['categori'], epochs, learning_rate)\n",
        "\n",
        "  fold_pred_prob = model_fold.predict(model_fold.weight, folded_valid.drop('categori',axis=1), model_fold.bias)\n",
        "  folded_pred = threshold(fold_pred_prob)\n",
        "  TRUTH_VALUE = folded_valid['categori']\n",
        "  print(f'=========================================\\nFold-{i+1}\\n=========================================')\n",
        "  print(f'Accuracy Score: {accuracy_score(TRUTH_VALUE, folded_pred)}')\n",
        "  print(f'Precision Score: {precision_score(TRUTH_VALUE, folded_pred)}')\n",
        "  print(f'Recall Score: {recall_score(TRUTH_VALUE, folded_pred)}')\n",
        "  print(f'F1 Score: {f1_score(TRUTH_VALUE, folded_pred)}')\n",
        "  print(f'\\nClassification Score:\\n {classification_report(TRUTH_VALUE, folded_pred)}')\n",
        "\n",
        "  list_acc.append(accuracy_score(TRUTH_VALUE, folded_pred))\n",
        "  list_prec.append(precision_score(TRUTH_VALUE, folded_pred))\n",
        "  list_rec.append(recall_score(TRUTH_VALUE, folded_pred))\n",
        "  list_f1.append(f1_score(TRUTH_VALUE, folded_pred))"
      ],
      "metadata": {
        "colab": {
          "base_uri": "https://localhost:8080/"
        },
        "id": "R0xjUylQbcue",
        "outputId": "78501261-283d-4183-e458-730f5cc268f5"
      },
      "execution_count": null,
      "outputs": [
        {
          "output_type": "stream",
          "name": "stdout",
          "text": [
            "=========================================\n",
            "Fold-1\n",
            "=========================================\n",
            "Accuracy Score: 0.9938900203665988\n",
            "Precision Score: 1.0\n",
            "Recall Score: 0.9883268482490273\n",
            "F1 Score: 0.9941291585127202\n",
            "\n",
            "Classification Score:\n",
            "               precision    recall  f1-score   support\n",
            "\n",
            "         0.0       0.99      1.00      0.99       234\n",
            "         1.0       1.00      0.99      0.99       257\n",
            "\n",
            "    accuracy                           0.99       491\n",
            "   macro avg       0.99      0.99      0.99       491\n",
            "weighted avg       0.99      0.99      0.99       491\n",
            "\n",
            "=========================================\n",
            "Fold-2\n",
            "=========================================\n",
            "Accuracy Score: 0.9979633401221996\n",
            "Precision Score: 1.0\n",
            "Recall Score: 0.995850622406639\n",
            "F1 Score: 0.997920997920998\n",
            "\n",
            "Classification Score:\n",
            "               precision    recall  f1-score   support\n",
            "\n",
            "         0.0       1.00      1.00      1.00       250\n",
            "         1.0       1.00      1.00      1.00       241\n",
            "\n",
            "    accuracy                           1.00       491\n",
            "   macro avg       1.00      1.00      1.00       491\n",
            "weighted avg       1.00      1.00      1.00       491\n",
            "\n",
            "=========================================\n",
            "Fold-3\n",
            "=========================================\n",
            "Accuracy Score: 1.0\n",
            "Precision Score: 1.0\n",
            "Recall Score: 1.0\n",
            "F1 Score: 1.0\n",
            "\n",
            "Classification Score:\n",
            "               precision    recall  f1-score   support\n",
            "\n",
            "         0.0       1.00      1.00      1.00       246\n",
            "         1.0       1.00      1.00      1.00       245\n",
            "\n",
            "    accuracy                           1.00       491\n",
            "   macro avg       1.00      1.00      1.00       491\n",
            "weighted avg       1.00      1.00      1.00       491\n",
            "\n",
            "=========================================\n",
            "Fold-4\n",
            "=========================================\n",
            "Accuracy Score: 1.0\n",
            "Precision Score: 1.0\n",
            "Recall Score: 1.0\n",
            "F1 Score: 1.0\n",
            "\n",
            "Classification Score:\n",
            "               precision    recall  f1-score   support\n",
            "\n",
            "         0.0       1.00      1.00      1.00       250\n",
            "         1.0       1.00      1.00      1.00       241\n",
            "\n",
            "    accuracy                           1.00       491\n",
            "   macro avg       1.00      1.00      1.00       491\n",
            "weighted avg       1.00      1.00      1.00       491\n",
            "\n",
            "=========================================\n",
            "Fold-5\n",
            "=========================================\n",
            "Accuracy Score: 0.9938900203665988\n",
            "Precision Score: 1.0\n",
            "Recall Score: 0.9877049180327869\n",
            "F1 Score: 0.9938144329896906\n",
            "\n",
            "Classification Score:\n",
            "               precision    recall  f1-score   support\n",
            "\n",
            "         0.0       0.99      1.00      0.99       247\n",
            "         1.0       1.00      0.99      0.99       244\n",
            "\n",
            "    accuracy                           0.99       491\n",
            "   macro avg       0.99      0.99      0.99       491\n",
            "weighted avg       0.99      0.99      0.99       491\n",
            "\n"
          ]
        }
      ]
    },
    {
      "cell_type": "code",
      "source": [
        "print(\"Logistic Regression - Gradient Descent Cross Validation Scores\")\n",
        "print(f'Cross Validation (5 - folds) : (Accuracy) = {np.mean(list_acc)}')\n",
        "print(f'Cross Validation (5 - folds) : (Precision) = {np.mean(list_prec)}')\n",
        "print(f'Cross Validation (5 - folds) : (Recall) = {np.mean(list_rec)}')\n",
        "print(f'Cross Validation (5 - folds) : (F1 - Score) = {np.mean(list_f1)}')"
      ],
      "metadata": {
        "colab": {
          "base_uri": "https://localhost:8080/"
        },
        "id": "obui7FS1b3qq",
        "outputId": "86b62e38-81e1-4a3c-d546-b1c2c968acda"
      },
      "execution_count": null,
      "outputs": [
        {
          "output_type": "stream",
          "name": "stdout",
          "text": [
            "Logistic Regression - Gradient Descent Cross Validation Scores\n",
            "Cross Validation (5 - folds) : (Accuracy) = 0.9971486761710795\n",
            "Cross Validation (5 - folds) : (Precision) = 1.0\n",
            "Cross Validation (5 - folds) : (Recall) = 0.9943764777376906\n",
            "Cross Validation (5 - folds) : (F1 - Score) = 0.9971729178846818\n"
          ]
        }
      ]
    },
    {
      "cell_type": "markdown",
      "source": [
        "### KNN"
      ],
      "metadata": {
        "id": "_kDcmn75HkHT"
      }
    },
    {
      "cell_type": "code",
      "source": [
        "class KNN:\n",
        "  def __init__(self, k, distance_measure, problem):\n",
        "    self.k = k\n",
        "    self.distance_measure = distance_measure\n",
        "    self.problem = problem\n",
        "\n",
        "  def distance_function(self,a, b,p):\n",
        "    \n",
        "    dimension = len(a)\n",
        "\n",
        "    # Hamming Distance Measures\n",
        "    if p == -1:\n",
        "      distance_hamming = 0\n",
        "      for i in range(dimension):\n",
        "        if a[i] != b[i]:\n",
        "          distance_hamming += 1\n",
        "\n",
        "      return distance_hamming\n",
        "\n",
        "    # Minkowski, Euclidian, Manhattan Distance Measures\n",
        "    distance = 0\n",
        "    for i in range(dimension):\n",
        "      distance += abs(a[i] - b[i])**p\n",
        "    \n",
        "    distance = distance**(1/p)\n",
        "\n",
        "    return distance\n",
        "  \n",
        "  def predict(self, X_train, X_test, y_train):\n",
        "    \n",
        "    predict_answer = []\n",
        "\n",
        "    if self.distance_measure == 'manhattan':\n",
        "      p=1\n",
        "    elif self.distance_measure == 'euclidian':\n",
        "      p=2\n",
        "    elif self.distance_measure == 'minkowski':\n",
        "      p=3\n",
        "    else:\n",
        "      p=-1\n",
        "\n",
        "    for test_data in X_test:\n",
        "      distances = []\n",
        "\n",
        "      for t in range(len(X_train)):\n",
        "        distance = self.distance_function(test_data, X_train[t], p)\n",
        "        distances.append(distance)\n",
        "\n",
        "      distances = np.array(distances)\n",
        "\n",
        "      # Sorting and Voting\n",
        "      df_sort = np.argsort(distances)[:self.k]\n",
        "      neighbor = y_train[df_sort]\n",
        "\n",
        "      if self.problem == 'classification':\n",
        "        prediction = mode(neighbor)\n",
        "        prediction = prediction.mode[0]\n",
        "\n",
        "      elif self.problem == 'regression':\n",
        "        prediction = np.mean(neighbor)\n",
        "      \n",
        "      predict_answer.append(prediction)\n",
        "    return predict_answer"
      ],
      "metadata": {
        "id": "2yUn2kxIHlPx"
      },
      "execution_count": null,
      "outputs": []
    },
    {
      "cell_type": "markdown",
      "source": [
        "#### Tuning KNN to obtain optimum K value"
      ],
      "metadata": {
        "id": "MYvYqH--HqqV"
      }
    },
    {
      "cell_type": "code",
      "source": [
        "accuracy = []\n",
        "for k in range(1,30):\n",
        "  model = KNN(k, 'euclidian', 'classification')\n",
        "  pred = model.predict(np.array(X_train), np.array(X_valid), np.array(y_train))\n",
        "  accuracy.append(accuracy_score(y_valid, pred))"
      ],
      "metadata": {
        "id": "66zJZUK-HoSF"
      },
      "execution_count": null,
      "outputs": []
    },
    {
      "cell_type": "code",
      "source": [
        "plt.figure(figsize=(15,8))\n",
        "plt.plot(accuracy)\n",
        "plt.title('K value VS Accuracy')\n",
        "plt.xticks(ticks=np.arange(0,29), labels=np.arange(1,30))\n",
        "plt.xlabel('K Value')\n",
        "plt.ylabel('Accuracy')\n",
        "plt.show()"
      ],
      "metadata": {
        "colab": {
          "base_uri": "https://localhost:8080/",
          "height": 513
        },
        "id": "VBisiV5jH7U6",
        "outputId": "f6fd2cc3-01a6-45a3-8d7f-226ce63cc3bd"
      },
      "execution_count": null,
      "outputs": [
        {
          "output_type": "display_data",
          "data": {
            "text/plain": [
              "<Figure size 1080x576 with 1 Axes>"
            ],
            "image/png": "[encoded data removed]"
          },
          "metadata": {
            "needs_background": "light"
          }
        }
      ]
    },
    {
      "cell_type": "markdown",
      "source": [
        "### Prediction with KNN (K = 1)"
      ],
      "metadata": {
        "id": "cff-NEWqJdNR"
      }
    },
    {
      "cell_type": "code",
      "source": [
        "model_1nn = KNN(1, 'euclidian', 'classification')\n",
        "pred_1nn = model_1nn.predict(np.array(X_train), np.array(X_valid), np.array(y_train))"
      ],
      "metadata": {
        "id": "GAOaHvjxJcYj"
      },
      "execution_count": null,
      "outputs": []
    },
    {
      "cell_type": "code",
      "source": [
        "cf = confusion_matrix(y_valid, pred_1nn)\n",
        "ax = sns.heatmap(cf, annot=True, linewidth=0.1)\n",
        "\n",
        "ax.set_title('Confusion Matrix')\n",
        "ax.set_xlabel('Prediction Values')\n",
        "ax.set_ylabel('Actual Values')\n",
        "\n",
        "ax.xaxis.set_ticklabels(['False','True'])\n",
        "ax.yaxis.set_ticklabels(['False','True'])\n",
        "\n",
        "plt.show()"
      ],
      "metadata": {
        "colab": {
          "base_uri": "https://localhost:8080/",
          "height": 295
        },
        "id": "emrPMs0dJoCK",
        "outputId": "94a12d73-c5bd-4f24-da4a-2582b8845238"
      },
      "execution_count": null,
      "outputs": [
        {
          "output_type": "display_data",
          "data": {
            "text/plain": [
              "<Figure size 432x288 with 2 Axes>"
            ],
            "image/png": "[encoded data removed]"
          },
          "metadata": {
            "needs_background": "light"
          }
        }
      ]
    },
    {
      "cell_type": "code",
      "source": [
        "TRUTH_VALUE = y_valid\n",
        "print(f'Accuracy Score: {accuracy_score(TRUTH_VALUE, pred_1nn)}')\n",
        "print(f'Precision Score: {precision_score(TRUTH_VALUE, pred_1nn)}')\n",
        "print(f'Recall Score: {recall_score(TRUTH_VALUE, pred_1nn)}')\n",
        "print(f'F1 Score: {f1_score(TRUTH_VALUE, pred_1nn)}')\n",
        "print(f'\\nClassification Score:\\n {classification_report(TRUTH_VALUE, pred_1nn)}')"
      ],
      "metadata": {
        "colab": {
          "base_uri": "https://localhost:8080/"
        },
        "id": "aTTgvsZgJzme",
        "outputId": "13e09bc0-a24f-4ec1-fd0d-feef5457d25a"
      },
      "execution_count": null,
      "outputs": [
        {
          "output_type": "stream",
          "name": "stdout",
          "text": [
            "Accuracy Score: 0.983739837398374\n",
            "Precision Score: 1.0\n",
            "Recall Score: 0.967479674796748\n",
            "F1 Score: 0.9834710743801653\n",
            "\n",
            "Classification Score:\n",
            "               precision    recall  f1-score   support\n",
            "\n",
            "           0       0.97      1.00      0.98       246\n",
            "           1       1.00      0.97      0.98       246\n",
            "\n",
            "    accuracy                           0.98       492\n",
            "   macro avg       0.98      0.98      0.98       492\n",
            "weighted avg       0.98      0.98      0.98       492\n",
            "\n"
          ]
        }
      ]
    },
    {
      "cell_type": "markdown",
      "source": [
        "#### Cross Validation with K-Fold\n",
        "- We will use 5-fold on KNN models."
      ],
      "metadata": {
        "id": "FV-6SLCMcEMq"
      }
    },
    {
      "cell_type": "code",
      "source": [
        "folds = cross_validation_split(np.array(train),5)\n",
        "list_acc = []\n",
        "list_prec = []\n",
        "list_f1 = []\n",
        "list_rec = []\n",
        "for i in range(len(folds)):\n",
        "  folded_valid = pd.DataFrame(folds[i], columns = train.columns.tolist())\n",
        "  idx = 0\n",
        "  folded_train = pd.DataFrame(columns = train.columns.tolist())\n",
        "  for j in range(len(folds)):\n",
        "    if j != i:\n",
        "      if idx == 0:\n",
        "        idx = 1\n",
        "        folded_train = pd.DataFrame(folds[j], columns = train.columns.tolist())\n",
        "        continue\n",
        "      folded_train = folded_train.append(pd.DataFrame(folds[j], columns = train.columns.tolist()))\n",
        "\n",
        "  model_fold = KNN(1, 'euclidian', 'classification')\n",
        "  folded_pred = model_1nn.predict(np.array(folded_train.drop('categori', axis=1)), np.array(folded_valid.drop('categori', axis=1)), np.array(folded_train['categori']))\n",
        "  TRUTH_VALUE = folded_valid['categori']\n",
        "  print(f'=========================================\\nFold-{i+1}\\n=========================================')\n",
        "  print(f'Accuracy Score: {accuracy_score(TRUTH_VALUE, folded_pred)}')\n",
        "  print(f'Precision Score: {precision_score(TRUTH_VALUE, folded_pred)}')\n",
        "  print(f'Recall Score: {recall_score(TRUTH_VALUE, folded_pred)}')\n",
        "  print(f'F1 Score: {f1_score(TRUTH_VALUE, folded_pred)}')\n",
        "  print(f'\\nClassification Score:\\n {classification_report(TRUTH_VALUE, folded_pred)}')\n",
        "\n",
        "  list_acc.append(accuracy_score(TRUTH_VALUE, folded_pred))\n",
        "  list_prec.append(precision_score(TRUTH_VALUE, folded_pred))\n",
        "  list_rec.append(recall_score(TRUTH_VALUE, folded_pred))\n",
        "  list_f1.append(f1_score(TRUTH_VALUE, folded_pred))"
      ],
      "metadata": {
        "colab": {
          "base_uri": "https://localhost:8080/"
        },
        "id": "tPrERswCcD3j",
        "outputId": "a82fc77a-061c-409e-bc74-972f7ec5d31f"
      },
      "execution_count": null,
      "outputs": [
        {
          "output_type": "stream",
          "name": "stdout",
          "text": [
            "=========================================\n",
            "Fold-1\n",
            "=========================================\n",
            "Accuracy Score: 0.9837067209775967\n",
            "Precision Score: 1.0\n",
            "Recall Score: 0.9669421487603306\n",
            "F1 Score: 0.9831932773109243\n",
            "\n",
            "Classification Score:\n",
            "               precision    recall  f1-score   support\n",
            "\n",
            "         0.0       0.97      1.00      0.98       249\n",
            "         1.0       1.00      0.97      0.98       242\n",
            "\n",
            "    accuracy                           0.98       491\n",
            "   macro avg       0.98      0.98      0.98       491\n",
            "weighted avg       0.98      0.98      0.98       491\n",
            "\n",
            "=========================================\n",
            "Fold-2\n",
            "=========================================\n",
            "Accuracy Score: 0.9857433808553971\n",
            "Precision Score: 0.991869918699187\n",
            "Recall Score: 0.9799196787148594\n",
            "F1 Score: 0.9858585858585858\n",
            "\n",
            "Classification Score:\n",
            "               precision    recall  f1-score   support\n",
            "\n",
            "         0.0       0.98      0.99      0.99       242\n",
            "         1.0       0.99      0.98      0.99       249\n",
            "\n",
            "    accuracy                           0.99       491\n",
            "   macro avg       0.99      0.99      0.99       491\n",
            "weighted avg       0.99      0.99      0.99       491\n",
            "\n",
            "=========================================\n",
            "Fold-3\n",
            "=========================================\n",
            "Accuracy Score: 0.9816700610997964\n",
            "Precision Score: 1.0\n",
            "Recall Score: 0.9652509652509652\n",
            "F1 Score: 0.9823182711198428\n",
            "\n",
            "Classification Score:\n",
            "               precision    recall  f1-score   support\n",
            "\n",
            "         0.0       0.96      1.00      0.98       232\n",
            "         1.0       1.00      0.97      0.98       259\n",
            "\n",
            "    accuracy                           0.98       491\n",
            "   macro avg       0.98      0.98      0.98       491\n",
            "weighted avg       0.98      0.98      0.98       491\n",
            "\n",
            "=========================================\n",
            "Fold-4\n",
            "=========================================\n",
            "Accuracy Score: 0.9857433808553971\n",
            "Precision Score: 0.9955357142857143\n",
            "Recall Score: 0.9737991266375546\n",
            "F1 Score: 0.9845474613686535\n",
            "\n",
            "Classification Score:\n",
            "               precision    recall  f1-score   support\n",
            "\n",
            "         0.0       0.98      1.00      0.99       262\n",
            "         1.0       1.00      0.97      0.98       229\n",
            "\n",
            "    accuracy                           0.99       491\n",
            "   macro avg       0.99      0.98      0.99       491\n",
            "weighted avg       0.99      0.99      0.99       491\n",
            "\n",
            "=========================================\n",
            "Fold-5\n",
            "=========================================\n",
            "Accuracy Score: 0.9694501018329938\n",
            "Precision Score: 0.9915611814345991\n",
            "Recall Score: 0.9475806451612904\n",
            "F1 Score: 0.9690721649484536\n",
            "\n",
            "Classification Score:\n",
            "               precision    recall  f1-score   support\n",
            "\n",
            "         0.0       0.95      0.99      0.97       243\n",
            "         1.0       0.99      0.95      0.97       248\n",
            "\n",
            "    accuracy                           0.97       491\n",
            "   macro avg       0.97      0.97      0.97       491\n",
            "weighted avg       0.97      0.97      0.97       491\n",
            "\n"
          ]
        }
      ]
    },
    {
      "cell_type": "code",
      "source": [
        "print(\"1 - Nearest Neighbors Cross Validation Scores\")\n",
        "print(f'Cross Validation (5 - folds) : (Accuracy) = {np.mean(list_acc)}')\n",
        "print(f'Cross Validation (5 - folds) : (Precision) = {np.mean(list_prec)}')\n",
        "print(f'Cross Validation (5 - folds) : (Recall) = {np.mean(list_rec)}')\n",
        "print(f'Cross Validation (5 - folds) : (F1 - Score) = {np.mean(list_f1)}')"
      ],
      "metadata": {
        "colab": {
          "base_uri": "https://localhost:8080/"
        },
        "id": "qBZirIcQch6v",
        "outputId": "9cd71062-c7bb-4a8a-f697-241dde6297aa"
      },
      "execution_count": null,
      "outputs": [
        {
          "output_type": "stream",
          "name": "stdout",
          "text": [
            "1 - Nearest Neighbors Cross Validation Scores\n",
            "Cross Validation (5 - folds) : (Accuracy) = 0.9812627291242363\n",
            "Cross Validation (5 - folds) : (Precision) = 0.9957933628839001\n",
            "Cross Validation (5 - folds) : (Recall) = 0.966698512905\n",
            "Cross Validation (5 - folds) : (F1 - Score) = 0.980997952121292\n"
          ]
        }
      ]
    },
    {
      "cell_type": "markdown",
      "source": [
        "### Naive Bayes\n"
      ],
      "metadata": {
        "id": "ZEhe9Kb6rF4h"
      }
    },
    {
      "cell_type": "code",
      "source": [
        "class Naive_Bayes:\n",
        "\n",
        "    def fit(self, X, y):\n",
        "        self.parameters = {}\n",
        "        self.priors = {}\n",
        "\n",
        "        for i in X.columns:\n",
        "            self.parameters[i] = {}\n",
        "        \n",
        "        full_df = pd.concat([X, y], axis=1)\n",
        "        full_df = full_df.sort_values(by=['categori'])\n",
        "        self.unique_class = y.unique()\n",
        "\n",
        "        # Dividing class 1 and 0\n",
        "        divide_class = {}\n",
        "        for x in self.unique_class:\n",
        "            divide_class[x] = full_df[full_df['categori'] == x].loc[:, full_df.columns != 'categori']\n",
        "\n",
        "        # Finding Mean and Variance\n",
        "        for i in divide_class:\n",
        "            for j in divide_class[i]:\n",
        "                self.parameters[j][i] = self.mean_variance(divide_class[i][j])\n",
        "        \n",
        "        # Calculate prior probability each class\n",
        "        for i in self.unique_class:\n",
        "            self.priors[i] = len(divide_class[i])/ len(full_df)\n",
        "    \n",
        "    def mean_variance(self, df):\n",
        "        mean = df.mean()\n",
        "        variance = df.var()\n",
        "        return {'mean': mean, 'variance': variance}\n",
        "\n",
        "    def predict(self, X):\n",
        "        predictions = []\n",
        "\n",
        "        for i in range(len(X)):\n",
        "            full_class_posterior = np.array([])\n",
        "\n",
        "            for x in self.unique_class:\n",
        "                posterior_likelihood = 1\n",
        "\n",
        "                for cols in X.columns:\n",
        "                    value = X.iloc[i][cols]\n",
        "                    mean = self.parameters[cols][x]['mean']\n",
        "                    variance = self.parameters[cols][x]['variance']\n",
        "                    likelihood = (1 / (np.sqrt(2 * np.pi * variance))) * np.exp(-1 * ((value - mean)**2 / (2 * variance)))\n",
        "                    posterior_likelihood *= likelihood\n",
        "\n",
        "                post = posterior_likelihood * self.priors[x]\n",
        "                full_class_posterior = np.append(full_class_posterior, post)\n",
        "            predictions.append(self.unique_class[np.argmax(full_class_posterior)])\n",
        "        return predictions"
      ],
      "metadata": {
        "id": "vtvs9fhsrPUw"
      },
      "execution_count": null,
      "outputs": []
    },
    {
      "cell_type": "code",
      "source": [
        "model = Naive_Bayes()\n",
        "model.fit(X_train, y_train)"
      ],
      "metadata": {
        "id": "wW-co5-jsXDv"
      },
      "execution_count": null,
      "outputs": []
    },
    {
      "cell_type": "code",
      "source": [
        "y_valid_pred = model.predict(X_valid)"
      ],
      "metadata": {
        "id": "7W-nOUJztUqb"
      },
      "execution_count": null,
      "outputs": []
    },
    {
      "cell_type": "code",
      "source": [
        "df_valid = pd.DataFrame({\n",
        "    'GROUND TRUTH': y_valid,\n",
        "    'PREDICTIONS': y_valid_pred\n",
        "})\n",
        "\n",
        "df_valid"
      ],
      "metadata": {
        "colab": {
          "base_uri": "https://localhost:8080/",
          "height": 424
        },
        "id": "YaeK2so8tPNX",
        "outputId": "97fc87a7-c17e-4e49-c65d-aa7f9162d164"
      },
      "execution_count": null,
      "outputs": [
        {
          "output_type": "execute_result",
          "data": {
            "text/plain": [
              "     GROUND TRUTH  PREDICTIONS\n",
              "0               0            0\n",
              "1               1            1\n",
              "2               0            0\n",
              "3               0            0\n",
              "4               1            1\n",
              "..            ...          ...\n",
              "487             0            0\n",
              "488             0            0\n",
              "489             0            0\n",
              "490             0            0\n",
              "491             1            1\n",
              "\n",
              "[492 rows x 2 columns]"
            ],
            "text/html": [
              "\n",
              "  <div id=\"df-aef935d5-e411-491e-adb1-dc8f64913f68\">\n",
              "    <div class=\"colab-df-container\">\n",
              "      <div>\n",
              "<style scoped>\n",
              "    .dataframe tbody tr th:only-of-type {\n",
              "        vertical-align: middle;\n",
              "    }\n",
              "\n",
              "    .dataframe tbody tr th {\n",
              "        vertical-align: top;\n",
              "    }\n",
              "\n",
              "    .dataframe thead th {\n",
              "        text-align: right;\n",
              "    }\n",
              "</style>\n",
              "<table border=\"1\" class=\"dataframe\">\n",
              "  <thead>\n",
              "    <tr style=\"text-align: right;\">\n",
              "      <th></th>\n",
              "      <th>GROUND TRUTH</th>\n",
              "      <th>PREDICTIONS</th>\n",
              "    </tr>\n",
              "  </thead>\n",
              "  <tbody>\n",
              "    <tr>\n",
              "      <th>0</th>\n",
              "      <td>0</td>\n",
              "      <td>0</td>\n",
              "    </tr>\n",
              "    <tr>\n",
              "      <th>1</th>\n",
              "      <td>1</td>\n",
              "      <td>1</td>\n",
              "    </tr>\n",
              "    <tr>\n",
              "      <th>2</th>\n",
              "      <td>0</td>\n",
              "      <td>0</td>\n",
              "    </tr>\n",
              "    <tr>\n",
              "      <th>3</th>\n",
              "      <td>0</td>\n",
              "      <td>0</td>\n",
              "    </tr>\n",
              "    <tr>\n",
              "      <th>4</th>\n",
              "      <td>1</td>\n",
              "      <td>1</td>\n",
              "    </tr>\n",
              "    <tr>\n",
              "      <th>...</th>\n",
              "      <td>...</td>\n",
              "      <td>...</td>\n",
              "    </tr>\n",
              "    <tr>\n",
              "      <th>487</th>\n",
              "      <td>0</td>\n",
              "      <td>0</td>\n",
              "    </tr>\n",
              "    <tr>\n",
              "      <th>488</th>\n",
              "      <td>0</td>\n",
              "      <td>0</td>\n",
              "    </tr>\n",
              "    <tr>\n",
              "      <th>489</th>\n",
              "      <td>0</td>\n",
              "      <td>0</td>\n",
              "    </tr>\n",
              "    <tr>\n",
              "      <th>490</th>\n",
              "      <td>0</td>\n",
              "      <td>0</td>\n",
              "    </tr>\n",
              "    <tr>\n",
              "      <th>491</th>\n",
              "      <td>1</td>\n",
              "      <td>1</td>\n",
              "    </tr>\n",
              "  </tbody>\n",
              "</table>\n",
              "<p>492 rows × 2 columns</p>\n",
              "</div>\n",
              "      <button class=\"colab-df-convert\" onclick=\"convertToInteractive('df-aef935d5-e411-491e-adb1-dc8f64913f68')\"\n",
              "              title=\"Convert this dataframe to an interactive table.\"\n",
              "              style=\"display:none;\">\n",
              "        \n",
              "  <svg xmlns=\"http://www.w3.org/2000/svg\" height=\"24px\"viewBox=\"0 0 24 24\"\n",
              "       width=\"24px\">\n",
              "    <path d=\"M0 0h24v24H0V0z\" fill=\"none\"/>\n",
              "    <path d=\"M18.56 5.44l.94 2.06.94-2.06 2.06-.94-2.06-.94-.94-2.06-.94 2.06-2.06.94zm-11 1L8.5 8.5l.94-2.06 2.06-.94-2.06-.94L8.5 2.5l-.94 2.06-2.06.94zm10 10l.94 2.06.94-2.06 2.06-.94-2.06-.94-.94-2.06-.94 2.06-2.06.94z\"/><path d=\"M17.41 7.96l-1.37-1.37c-.4-.4-.92-.59-1.43-.59-.52 0-1.04.2-1.43.59L10.3 9.45l-7.72 7.72c-.78.78-.78 2.05 0 2.83L4 21.41c.39.39.9.59 1.41.59.51 0 1.02-.2 1.41-.59l7.78-7.78 2.81-2.81c.8-.78.8-2.07 0-2.86zM5.41 20L4 18.59l7.72-7.72 1.47 1.35L5.41 20z\"/>\n",
              "  </svg>\n",
              "      </button>\n",
              "      \n",
              "  <style>\n",
              "    .colab-df-container {\n",
              "      display:flex;\n",
              "      flex-wrap:wrap;\n",
              "      gap: 12px;\n",
              "    }\n",
              "\n",
              "    .colab-df-convert {\n",
              "      background-color: #E8F0FE;\n",
              "      border: none;\n",
              "      border-radius: 50%;\n",
              "      cursor: pointer;\n",
              "      display: none;\n",
              "      fill: #1967D2;\n",
              "      height: 32px;\n",
              "      padding: 0 0 0 0;\n",
              "      width: 32px;\n",
              "    }\n",
              "\n",
              "    .colab-df-convert:hover {\n",
              "      background-color: #E2EBFA;\n",
              "      box-shadow: 0px 1px 2px rgba(60, 64, 67, 0.3), 0px 1px 3px 1px rgba(60, 64, 67, 0.15);\n",
              "      fill: #174EA6;\n",
              "    }\n",
              "\n",
              "    [theme=dark] .colab-df-convert {\n",
              "      background-color: #3B4455;\n",
              "      fill: #D2E3FC;\n",
              "    }\n",
              "\n",
              "    [theme=dark] .colab-df-convert:hover {\n",
              "      background-color: #434B5C;\n",
              "      box-shadow: 0px 1px 3px 1px rgba(0, 0, 0, 0.15);\n",
              "      filter: drop-shadow(0px 1px 2px rgba(0, 0, 0, 0.3));\n",
              "      fill: #FFFFFF;\n",
              "    }\n",
              "  </style>\n",
              "\n",
              "      <script>\n",
              "        const buttonEl =\n",
              "          document.querySelector('#df-aef935d5-e411-491e-adb1-dc8f64913f68 button.colab-df-convert');\n",
              "        buttonEl.style.display =\n",
              "          google.colab.kernel.accessAllowed ? 'block' : 'none';\n",
              "\n",
              "        async function convertToInteractive(key) {\n",
              "          const element = document.querySelector('#df-aef935d5-e411-491e-adb1-dc8f64913f68');\n",
              "          const dataTable =\n",
              "            await google.colab.kernel.invokeFunction('convertToInteractive',\n",
              "                                                     [key], {});\n",
              "          if (!dataTable) return;\n",
              "\n",
              "          const docLinkHtml = 'Like what you see? Visit the ' +\n",
              "            '<a target=\"_blank\" href=https://colab.research.google.com/notebooks/data_table.ipynb>data table notebook</a>'\n",
              "            + ' to learn more about interactive tables.';\n",
              "          element.innerHTML = '';\n",
              "          dataTable['output_type'] = 'display_data';\n",
              "          await google.colab.output.renderOutput(dataTable, element);\n",
              "          const docLink = document.createElement('div');\n",
              "          docLink.innerHTML = docLinkHtml;\n",
              "          element.appendChild(docLink);\n",
              "        }\n",
              "      </script>\n",
              "    </div>\n",
              "  </div>\n",
              "  "
            ]
          },
          "metadata": {},
          "execution_count": 85
        }
      ]
    },
    {
      "cell_type": "markdown",
      "source": [
        "### Prediction with Naive Bayes"
      ],
      "metadata": {
        "id": "uG4FosEV88aD"
      }
    },
    {
      "cell_type": "code",
      "source": [
        "cf = confusion_matrix(y_valid, y_valid_pred)\n",
        "ax = sns.heatmap(cf, annot=True, linewidth=0.1)\n",
        "\n",
        "ax.set_title('Confusion Matrix')\n",
        "ax.set_xlabel('Prediction Values')\n",
        "ax.set_ylabel('Actual Values')\n",
        "\n",
        "ax.xaxis.set_ticklabels(['False','True'])\n",
        "ax.yaxis.set_ticklabels(['False','True'])\n",
        "\n",
        "plt.show()"
      ],
      "metadata": {
        "colab": {
          "base_uri": "https://localhost:8080/",
          "height": 295
        },
        "id": "ycr1Ml7C7707",
        "outputId": "8f36c19e-61d8-491e-f78a-aca76f6dac7d"
      },
      "execution_count": null,
      "outputs": [
        {
          "output_type": "display_data",
          "data": {
            "text/plain": [
              "<Figure size 432x288 with 2 Axes>"
            ],
            "image/png": "[encoded data removed]"
          },
          "metadata": {
            "needs_background": "light"
          }
        }
      ]
    },
    {
      "cell_type": "code",
      "source": [
        "TRUTH_VALUE = y_valid\n",
        "print(f'Accuracy Score: {accuracy_score(TRUTH_VALUE, y_valid_pred)}')\n",
        "print(f'Precision Score: {precision_score(TRUTH_VALUE, y_valid_pred)}')\n",
        "print(f'Recall Score: {recall_score(TRUTH_VALUE, y_valid_pred)}')\n",
        "print(f'F1 Score: {f1_score(TRUTH_VALUE, y_valid_pred)}')\n",
        "print(f'\\nClassification Score:\\n {classification_report(TRUTH_VALUE, y_valid_pred)}')"
      ],
      "metadata": {
        "colab": {
          "base_uri": "https://localhost:8080/"
        },
        "id": "C91oONmi8VoK",
        "outputId": "8d9bd557-f4f0-439f-f475-d524ac0eb1e0"
      },
      "execution_count": null,
      "outputs": [
        {
          "output_type": "stream",
          "name": "stdout",
          "text": [
            "Accuracy Score: 0.9410569105691057\n",
            "Precision Score: 0.9578059071729957\n",
            "Recall Score: 0.9227642276422764\n",
            "F1 Score: 0.9399585921325051\n",
            "\n",
            "Classification Score:\n",
            "               precision    recall  f1-score   support\n",
            "\n",
            "           0       0.93      0.96      0.94       246\n",
            "           1       0.96      0.92      0.94       246\n",
            "\n",
            "    accuracy                           0.94       492\n",
            "   macro avg       0.94      0.94      0.94       492\n",
            "weighted avg       0.94      0.94      0.94       492\n",
            "\n"
          ]
        }
      ]
    },
    {
      "cell_type": "markdown",
      "source": [
        "#### Cross Validation using K - Fold\n",
        "- In this section we will try to do Cross Validation on Naive Bayes model"
      ],
      "metadata": {
        "id": "BSOt9DPgctxr"
      }
    },
    {
      "cell_type": "code",
      "source": [
        "folds = cross_validation_split(np.array(train),5)\n",
        "list_acc = []\n",
        "list_prec = []\n",
        "list_f1 = []\n",
        "list_rec = []\n",
        "for i in range(len(folds)):\n",
        "  folded_valid = pd.DataFrame(folds[i], columns = train.columns.tolist())\n",
        "  idx = 0\n",
        "  folded_train = pd.DataFrame(columns = train.columns.tolist())\n",
        "  for j in range(len(folds)):\n",
        "    if j != i:\n",
        "      if idx == 0:\n",
        "        idx = 1\n",
        "        folded_train = pd.DataFrame(folds[j], columns = train.columns.tolist())\n",
        "        continue\n",
        "      folded_train = folded_train.append(pd.DataFrame(folds[j], columns = train.columns.tolist()))\n",
        "\n",
        "  model_fold = Naive_Bayes()\n",
        "  model_fold.fit(folded_train.drop('categori', axis=1), folded_train['categori'])\n",
        "  folded_pred = model_fold.predict(folded_valid.drop('categori', axis=1))\n",
        "  TRUTH_VALUE = folded_valid['categori']\n",
        "  print(f'=========================================\\nFold-{i+1}\\n=========================================')\n",
        "  print(f'Accuracy Score: {accuracy_score(TRUTH_VALUE, folded_pred)}')\n",
        "  print(f'Precision Score: {precision_score(TRUTH_VALUE, folded_pred)}')\n",
        "  print(f'Recall Score: {recall_score(TRUTH_VALUE, folded_pred)}')\n",
        "  print(f'F1 Score: {f1_score(TRUTH_VALUE, folded_pred)}')\n",
        "  print(f'\\nClassification Score:\\n {classification_report(TRUTH_VALUE, folded_pred)}')\n",
        "\n",
        "  list_acc.append(accuracy_score(TRUTH_VALUE, folded_pred))\n",
        "  list_prec.append(precision_score(TRUTH_VALUE, folded_pred))\n",
        "  list_rec.append(recall_score(TRUTH_VALUE, folded_pred))\n",
        "  list_f1.append(f1_score(TRUTH_VALUE, folded_pred))"
      ],
      "metadata": {
        "colab": {
          "base_uri": "https://localhost:8080/"
        },
        "id": "s-bz7hlzc4nG",
        "outputId": "7959638f-ed73-46c7-d872-10febc0a7861"
      },
      "execution_count": null,
      "outputs": [
        {
          "output_type": "stream",
          "name": "stdout",
          "text": [
            "=========================================\n",
            "Fold-1\n",
            "=========================================\n",
            "Accuracy Score: 0.9205702647657841\n",
            "Precision Score: 0.9358974358974359\n",
            "Recall Score: 0.9012345679012346\n",
            "F1 Score: 0.9182389937106918\n",
            "\n",
            "Classification Score:\n",
            "               precision    recall  f1-score   support\n",
            "\n",
            "         0.0       0.91      0.94      0.92       248\n",
            "         1.0       0.94      0.90      0.92       243\n",
            "\n",
            "    accuracy                           0.92       491\n",
            "   macro avg       0.92      0.92      0.92       491\n",
            "weighted avg       0.92      0.92      0.92       491\n",
            "\n",
            "=========================================\n",
            "Fold-2\n",
            "=========================================\n",
            "Accuracy Score: 0.9307535641547862\n",
            "Precision Score: 0.9659574468085106\n",
            "Recall Score: 0.8972332015810277\n",
            "F1 Score: 0.930327868852459\n",
            "\n",
            "Classification Score:\n",
            "               precision    recall  f1-score   support\n",
            "\n",
            "         0.0       0.90      0.97      0.93       238\n",
            "         1.0       0.97      0.90      0.93       253\n",
            "\n",
            "    accuracy                           0.93       491\n",
            "   macro avg       0.93      0.93      0.93       491\n",
            "weighted avg       0.93      0.93      0.93       491\n",
            "\n",
            "=========================================\n",
            "Fold-3\n",
            "=========================================\n",
            "Accuracy Score: 0.9429735234215886\n",
            "Precision Score: 0.9652173913043478\n",
            "Recall Score: 0.9173553719008265\n",
            "F1 Score: 0.940677966101695\n",
            "\n",
            "Classification Score:\n",
            "               precision    recall  f1-score   support\n",
            "\n",
            "         0.0       0.92      0.97      0.95       249\n",
            "         1.0       0.97      0.92      0.94       242\n",
            "\n",
            "    accuracy                           0.94       491\n",
            "   macro avg       0.94      0.94      0.94       491\n",
            "weighted avg       0.94      0.94      0.94       491\n",
            "\n",
            "=========================================\n",
            "Fold-4\n",
            "=========================================\n",
            "Accuracy Score: 0.924643584521385\n",
            "Precision Score: 0.9456066945606695\n",
            "Recall Score: 0.904\n",
            "F1 Score: 0.9243353783231084\n",
            "\n",
            "Classification Score:\n",
            "               precision    recall  f1-score   support\n",
            "\n",
            "         0.0       0.90      0.95      0.92       241\n",
            "         1.0       0.95      0.90      0.92       250\n",
            "\n",
            "    accuracy                           0.92       491\n",
            "   macro avg       0.93      0.93      0.92       491\n",
            "weighted avg       0.93      0.92      0.92       491\n",
            "\n",
            "=========================================\n",
            "Fold-5\n",
            "=========================================\n",
            "Accuracy Score: 0.9470468431771895\n",
            "Precision Score: 0.9568965517241379\n",
            "Recall Score: 0.9327731092436975\n",
            "F1 Score: 0.9446808510638298\n",
            "\n",
            "Classification Score:\n",
            "               precision    recall  f1-score   support\n",
            "\n",
            "         0.0       0.94      0.96      0.95       253\n",
            "         1.0       0.96      0.93      0.94       238\n",
            "\n",
            "    accuracy                           0.95       491\n",
            "   macro avg       0.95      0.95      0.95       491\n",
            "weighted avg       0.95      0.95      0.95       491\n",
            "\n"
          ]
        }
      ]
    },
    {
      "cell_type": "code",
      "source": [
        "print(\"Naive Bayes Cross Validation Scores\")\n",
        "print(f'Cross Validation (5 - folds) : (Accuracy) = {np.mean(list_acc)}')\n",
        "print(f'Cross Validation (5 - folds) : (Precision) = {np.mean(list_prec)}')\n",
        "print(f'Cross Validation (5 - folds) : (Recall) = {np.mean(list_rec)}')\n",
        "print(f'Cross Validation (5 - folds) : (F1 - Score) = {np.mean(list_f1)}')"
      ],
      "metadata": {
        "colab": {
          "base_uri": "https://localhost:8080/"
        },
        "id": "mExuKymzdSZQ",
        "outputId": "4cf51078-f016-4bb3-f5db-21a9f37cdd1b"
      },
      "execution_count": null,
      "outputs": [
        {
          "output_type": "stream",
          "name": "stdout",
          "text": [
            "Naive Bayes Cross Validation Scores\n",
            "Cross Validation (5 - folds) : (Accuracy) = 0.9331975560081467\n",
            "Cross Validation (5 - folds) : (Precision) = 0.9539151040590204\n",
            "Cross Validation (5 - folds) : (Recall) = 0.9105192501253573\n",
            "Cross Validation (5 - folds) : (F1 - Score) = 0.9316522116103568\n"
          ]
        }
      ]
    },
    {
      "cell_type": "markdown",
      "source": [
        "### Building Final Model\n",
        "> It seems like Logistic Regression with Gradient Descent able to perform really well on our dataset, let's build our final model with that."
      ],
      "metadata": {
        "id": "9Uooe9QTKHL0"
      }
    },
    {
      "cell_type": "code",
      "source": [
        "final_model = LogReg_GD(X_train.shape[1])\n",
        "epochs = 500\n",
        "learning_rate = 0.1\n",
        "final_model.gradient_descent(X_train, y_train, epochs, learning_rate)\n",
        "print(f'Weight : {final_model.weight}')\n",
        "print(f'Bias : {final_model.bias}')"
      ],
      "metadata": {
        "colab": {
          "base_uri": "https://localhost:8080/"
        },
        "id": "AkvkHBu8KQ11",
        "outputId": "64f84e7e-54f1-4377-af83-60a888499401"
      },
      "execution_count": null,
      "outputs": [
        {
          "output_type": "stream",
          "name": "stdout",
          "text": [
            "Weight : [-3.80803347e+02 -2.49098881e+00 -3.98899727e+00 -4.90300091e+00\n",
            " -7.57715078e-01  2.33424702e+00  2.00184140e+00  4.64669255e-01\n",
            "  1.13014922e-01  6.00188260e-01  1.26495398e+00]\n",
            "Bias : 197.43997815745442\n"
          ]
        }
      ]
    },
    {
      "cell_type": "code",
      "source": [
        "def threshold(y):\n",
        "    return [1 if i >= 0.5 else 0 for i in y]"
      ],
      "metadata": {
        "id": "DByrIo9wKeqH"
      },
      "execution_count": null,
      "outputs": []
    },
    {
      "cell_type": "markdown",
      "source": [
        "## Using Model on Unseen Data"
      ],
      "metadata": {
        "id": "oGxbLHUm9AM5"
      }
    },
    {
      "cell_type": "code",
      "source": [
        "unseen_X = test.drop('categori',axis=1)\n",
        "unseen_y = test['categori']\n",
        "\n",
        "unseen_pred_prob = final_model.predict(final_model.weight, unseen_X, final_model.bias)\n",
        "unseen_pred = threshold(unseen_pred_prob)\n",
        "TRUTH_VALUE = unseen_y\n",
        "print(f'Accuracy Score: {accuracy_score(TRUTH_VALUE, unseen_pred)}')\n",
        "print(f'Precision Score: {precision_score(TRUTH_VALUE, unseen_pred)}')\n",
        "print(f'Recall Score: {recall_score(TRUTH_VALUE, unseen_pred)}')\n",
        "print(f'F1 Score: {f1_score(TRUTH_VALUE, unseen_pred)}')\n",
        "print(f'\\nClassification Score:\\n {classification_report(TRUTH_VALUE, unseen_pred)}')"
      ],
      "metadata": {
        "colab": {
          "base_uri": "https://localhost:8080/"
        },
        "id": "Tem6CQYb9OAE",
        "outputId": "071eaceb-88d8-48b7-ea8c-f4cbddda45e7"
      },
      "execution_count": null,
      "outputs": [
        {
          "output_type": "stream",
          "name": "stdout",
          "text": [
            "Accuracy Score: 1.0\n",
            "Precision Score: 1.0\n",
            "Recall Score: 1.0\n",
            "F1 Score: 1.0\n",
            "\n",
            "Classification Score:\n",
            "               precision    recall  f1-score   support\n",
            "\n",
            "           0       1.00      1.00      1.00       307\n",
            "           1       1.00      1.00      1.00       307\n",
            "\n",
            "    accuracy                           1.00       614\n",
            "   macro avg       1.00      1.00      1.00       614\n",
            "weighted avg       1.00      1.00      1.00       614\n",
            "\n"
          ]
        }
      ]
    },
    {
      "cell_type": "markdown",
      "source": [
        "## Conclusion\n",
        "> As we can see, **Logistic Regression with Gradient Descent** model can perform very well both on validation data and especially, unseen dataset, which means that this model is **Not Overfitting** which is good. This performance proven by both **Cross Validation** Method and in *unseen dataset*, we can see that this model can achieve a perfect score (100% Accuracy).\n",
        "\n",
        "## Recommendation\n",
        "> It would be better if we get more data, to see whether our model can still perform well even with bigger data"
      ],
      "metadata": {
        "id": "JjvXoVSl-Veg"
      }
    },
    {
      "cell_type": "code",
      "source": [
        "import pickle\n",
        "filename = 'finalized_model.sav'\n",
        "pickle.dump(model, open(filename, 'wb'))"
      ],
      "metadata": {
        "id": "KUxMKWWvCPjo"
      },
      "execution_count": null,
      "outputs": []
    }
  ]
}